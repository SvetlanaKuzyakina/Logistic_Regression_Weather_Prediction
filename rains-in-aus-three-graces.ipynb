{
 "cells": [
  {
   "cell_type": "code",
   "execution_count": 1,
   "metadata": {
    "execution": {
     "iopub.execute_input": "2021-03-04T15:33:17.356265Z",
     "iopub.status.busy": "2021-03-04T15:33:17.355579Z",
     "iopub.status.idle": "2021-03-04T15:33:18.251084Z",
     "shell.execute_reply": "2021-03-04T15:33:18.250402Z"
    },
    "papermill": {
     "duration": 0.945378,
     "end_time": "2021-03-04T15:33:18.251300",
     "exception": false,
     "start_time": "2021-03-04T15:33:17.305922",
     "status": "completed"
    },
    "tags": []
   },
   "outputs": [],
   "source": [
    "import numpy as np\n",
    "import pandas as pd\n",
    "import matplotlib.pyplot as plt\n",
    "import seaborn as sns"
   ]
  },
  {
   "cell_type": "code",
   "execution_count": 2,
   "metadata": {
    "execution": {
     "iopub.execute_input": "2021-03-04T15:33:18.335346Z",
     "iopub.status.busy": "2021-03-04T15:33:18.334565Z",
     "iopub.status.idle": "2021-03-04T15:33:19.114849Z",
     "shell.execute_reply": "2021-03-04T15:33:19.114206Z"
    },
    "papermill": {
     "duration": 0.823958,
     "end_time": "2021-03-04T15:33:19.115021",
     "exception": false,
     "start_time": "2021-03-04T15:33:18.291063",
     "status": "completed"
    },
    "tags": []
   },
   "outputs": [],
   "source": [
    "df_test = pd.read_csv(\"/kaggle/input/australian-weather-prediction/weatherAUS_test.csv\")\n",
    "df = pd.read_csv(\"/kaggle/input/australian-weather-prediction/weatherAUS_train.csv\")"
   ]
  },
  {
   "cell_type": "code",
   "execution_count": 3,
   "metadata": {
    "execution": {
     "iopub.execute_input": "2021-03-04T15:33:19.214613Z",
     "iopub.status.busy": "2021-03-04T15:33:19.213892Z",
     "iopub.status.idle": "2021-03-04T15:33:19.245190Z",
     "shell.execute_reply": "2021-03-04T15:33:19.244497Z"
    },
    "papermill": {
     "duration": 0.09101,
     "end_time": "2021-03-04T15:33:19.245334",
     "exception": false,
     "start_time": "2021-03-04T15:33:19.154324",
     "status": "completed"
    },
    "tags": []
   },
   "outputs": [
    {
     "data": {
      "text/html": [
       "<div>\n",
       "<style scoped>\n",
       "    .dataframe tbody tr th:only-of-type {\n",
       "        vertical-align: middle;\n",
       "    }\n",
       "\n",
       "    .dataframe tbody tr th {\n",
       "        vertical-align: top;\n",
       "    }\n",
       "\n",
       "    .dataframe thead th {\n",
       "        text-align: right;\n",
       "    }\n",
       "</style>\n",
       "<table border=\"1\" class=\"dataframe\">\n",
       "  <thead>\n",
       "    <tr style=\"text-align: right;\">\n",
       "      <th></th>\n",
       "      <th>Date</th>\n",
       "      <th>Location</th>\n",
       "      <th>MinTemp</th>\n",
       "      <th>MaxTemp</th>\n",
       "      <th>Rainfall</th>\n",
       "      <th>Evaporation</th>\n",
       "      <th>Sunshine</th>\n",
       "      <th>WindGustDir</th>\n",
       "      <th>WindGustSpeed</th>\n",
       "      <th>WindDir9am</th>\n",
       "      <th>...</th>\n",
       "      <th>Humidity9am</th>\n",
       "      <th>Humidity3pm</th>\n",
       "      <th>Pressure9am</th>\n",
       "      <th>Pressure3pm</th>\n",
       "      <th>Cloud9am</th>\n",
       "      <th>Cloud3pm</th>\n",
       "      <th>Temp9am</th>\n",
       "      <th>Temp3pm</th>\n",
       "      <th>RainToday</th>\n",
       "      <th>RainTomorrow</th>\n",
       "    </tr>\n",
       "  </thead>\n",
       "  <tbody>\n",
       "    <tr>\n",
       "      <th>0</th>\n",
       "      <td>2013-07-22</td>\n",
       "      <td>Sydney</td>\n",
       "      <td>8.7</td>\n",
       "      <td>17.2</td>\n",
       "      <td>0.0</td>\n",
       "      <td>3.8</td>\n",
       "      <td>9.9</td>\n",
       "      <td>WNW</td>\n",
       "      <td>54.0</td>\n",
       "      <td>WNW</td>\n",
       "      <td>...</td>\n",
       "      <td>54.0</td>\n",
       "      <td>28.0</td>\n",
       "      <td>1019.4</td>\n",
       "      <td>1016.3</td>\n",
       "      <td>2.0</td>\n",
       "      <td>2.0</td>\n",
       "      <td>12.2</td>\n",
       "      <td>16.6</td>\n",
       "      <td>No</td>\n",
       "      <td>0</td>\n",
       "    </tr>\n",
       "    <tr>\n",
       "      <th>1</th>\n",
       "      <td>2015-02-28</td>\n",
       "      <td>Sale</td>\n",
       "      <td>15.4</td>\n",
       "      <td>25.7</td>\n",
       "      <td>0.0</td>\n",
       "      <td>NaN</td>\n",
       "      <td>NaN</td>\n",
       "      <td>W</td>\n",
       "      <td>67.0</td>\n",
       "      <td>NNE</td>\n",
       "      <td>...</td>\n",
       "      <td>84.0</td>\n",
       "      <td>66.0</td>\n",
       "      <td>1008.1</td>\n",
       "      <td>1005.1</td>\n",
       "      <td>8.0</td>\n",
       "      <td>8.0</td>\n",
       "      <td>18.8</td>\n",
       "      <td>24.3</td>\n",
       "      <td>No</td>\n",
       "      <td>1</td>\n",
       "    </tr>\n",
       "    <tr>\n",
       "      <th>2</th>\n",
       "      <td>2009-11-18</td>\n",
       "      <td>PerthAirport</td>\n",
       "      <td>15.2</td>\n",
       "      <td>22.2</td>\n",
       "      <td>7.2</td>\n",
       "      <td>5.2</td>\n",
       "      <td>3.3</td>\n",
       "      <td>NW</td>\n",
       "      <td>78.0</td>\n",
       "      <td>NW</td>\n",
       "      <td>...</td>\n",
       "      <td>68.0</td>\n",
       "      <td>91.0</td>\n",
       "      <td>1001.5</td>\n",
       "      <td>1000.1</td>\n",
       "      <td>7.0</td>\n",
       "      <td>8.0</td>\n",
       "      <td>20.1</td>\n",
       "      <td>16.5</td>\n",
       "      <td>Yes</td>\n",
       "      <td>1</td>\n",
       "    </tr>\n",
       "  </tbody>\n",
       "</table>\n",
       "<p>3 rows × 23 columns</p>\n",
       "</div>"
      ],
      "text/plain": [
       "         Date      Location  MinTemp  MaxTemp  Rainfall  Evaporation  \\\n",
       "0  2013-07-22        Sydney      8.7     17.2       0.0          3.8   \n",
       "1  2015-02-28          Sale     15.4     25.7       0.0          NaN   \n",
       "2  2009-11-18  PerthAirport     15.2     22.2       7.2          5.2   \n",
       "\n",
       "   Sunshine WindGustDir  WindGustSpeed WindDir9am  ... Humidity9am  \\\n",
       "0       9.9         WNW           54.0        WNW  ...        54.0   \n",
       "1       NaN           W           67.0        NNE  ...        84.0   \n",
       "2       3.3          NW           78.0         NW  ...        68.0   \n",
       "\n",
       "   Humidity3pm  Pressure9am  Pressure3pm  Cloud9am  Cloud3pm  Temp9am  \\\n",
       "0         28.0       1019.4       1016.3       2.0       2.0     12.2   \n",
       "1         66.0       1008.1       1005.1       8.0       8.0     18.8   \n",
       "2         91.0       1001.5       1000.1       7.0       8.0     20.1   \n",
       "\n",
       "   Temp3pm  RainToday  RainTomorrow  \n",
       "0     16.6         No             0  \n",
       "1     24.3         No             1  \n",
       "2     16.5        Yes             1  \n",
       "\n",
       "[3 rows x 23 columns]"
      ]
     },
     "execution_count": 3,
     "metadata": {},
     "output_type": "execute_result"
    }
   ],
   "source": [
    "df.head(3)"
   ]
  },
  {
   "cell_type": "code",
   "execution_count": 4,
   "metadata": {
    "execution": {
     "iopub.execute_input": "2021-03-04T15:33:19.331672Z",
     "iopub.status.busy": "2021-03-04T15:33:19.330688Z",
     "iopub.status.idle": "2021-03-04T15:33:19.335720Z",
     "shell.execute_reply": "2021-03-04T15:33:19.334982Z"
    },
    "papermill": {
     "duration": 0.050132,
     "end_time": "2021-03-04T15:33:19.335929",
     "exception": false,
     "start_time": "2021-03-04T15:33:19.285797",
     "status": "completed"
    },
    "tags": []
   },
   "outputs": [
    {
     "name": "stdout",
     "output_type": "stream",
     "text": [
      "101822.0\n"
     ]
    }
   ],
   "source": [
    "print(np.float(len(df)))"
   ]
  },
  {
   "cell_type": "code",
   "execution_count": 5,
   "metadata": {
    "execution": {
     "iopub.execute_input": "2021-03-04T15:33:19.424168Z",
     "iopub.status.busy": "2021-03-04T15:33:19.423112Z",
     "iopub.status.idle": "2021-03-04T15:33:19.427440Z",
     "shell.execute_reply": "2021-03-04T15:33:19.426854Z"
    },
    "papermill": {
     "duration": 0.05027,
     "end_time": "2021-03-04T15:33:19.427586",
     "exception": false,
     "start_time": "2021-03-04T15:33:19.377316",
     "status": "completed"
    },
    "tags": []
   },
   "outputs": [
    {
     "data": {
      "text/plain": [
       "Index(['Date', 'Location', 'MinTemp', 'MaxTemp', 'Rainfall', 'Evaporation',\n",
       "       'Sunshine', 'WindGustDir', 'WindGustSpeed', 'WindDir9am', 'WindDir3pm',\n",
       "       'WindSpeed9am', 'WindSpeed3pm', 'Humidity9am', 'Humidity3pm',\n",
       "       'Pressure9am', 'Pressure3pm', 'Cloud9am', 'Cloud3pm', 'Temp9am',\n",
       "       'Temp3pm', 'RainToday', 'RainTomorrow'],\n",
       "      dtype='object')"
      ]
     },
     "execution_count": 5,
     "metadata": {},
     "output_type": "execute_result"
    }
   ],
   "source": [
    "df.columns"
   ]
  },
  {
   "cell_type": "code",
   "execution_count": 6,
   "metadata": {
    "execution": {
     "iopub.execute_input": "2021-03-04T15:33:19.514031Z",
     "iopub.status.busy": "2021-03-04T15:33:19.513377Z",
     "iopub.status.idle": "2021-03-04T15:33:19.516567Z",
     "shell.execute_reply": "2021-03-04T15:33:19.516051Z"
    },
    "papermill": {
     "duration": 0.048005,
     "end_time": "2021-03-04T15:33:19.516716",
     "exception": false,
     "start_time": "2021-03-04T15:33:19.468711",
     "status": "completed"
    },
    "tags": []
   },
   "outputs": [],
   "source": [
    "#Categorical: Date, Location, WindGustDir, WindDir9am, WindDir3pm, RainToday"
   ]
  },
  {
   "cell_type": "code",
   "execution_count": 7,
   "metadata": {
    "execution": {
     "iopub.execute_input": "2021-03-04T15:33:19.609088Z",
     "iopub.status.busy": "2021-03-04T15:33:19.608057Z",
     "iopub.status.idle": "2021-03-04T15:33:19.680044Z",
     "shell.execute_reply": "2021-03-04T15:33:19.680501Z"
    },
    "papermill": {
     "duration": 0.120699,
     "end_time": "2021-03-04T15:33:19.680682",
     "exception": false,
     "start_time": "2021-03-04T15:33:19.559983",
     "status": "completed"
    },
    "tags": []
   },
   "outputs": [
    {
     "data": {
      "text/plain": [
       "Date              0\n",
       "Location          0\n",
       "WindGustDir    7318\n",
       "WindDir9am     7391\n",
       "WindDir3pm     2986\n",
       "RainToday      2300\n",
       "dtype: int64"
      ]
     },
     "execution_count": 7,
     "metadata": {},
     "output_type": "execute_result"
    }
   ],
   "source": [
    "cat = [var for var in df.columns if df[var].dtype=='O']\n",
    "df[cat].isnull().sum()"
   ]
  },
  {
   "cell_type": "code",
   "execution_count": 8,
   "metadata": {
    "execution": {
     "iopub.execute_input": "2021-03-04T15:33:19.802619Z",
     "iopub.status.busy": "2021-03-04T15:33:19.801881Z",
     "iopub.status.idle": "2021-03-04T15:33:19.905262Z",
     "shell.execute_reply": "2021-03-04T15:33:19.904649Z"
    },
    "papermill": {
     "duration": 0.183465,
     "end_time": "2021-03-04T15:33:19.905418",
     "exception": false,
     "start_time": "2021-03-04T15:33:19.721953",
     "status": "completed"
    },
    "tags": []
   },
   "outputs": [
    {
     "data": {
      "text/html": [
       "<div>\n",
       "<style scoped>\n",
       "    .dataframe tbody tr th:only-of-type {\n",
       "        vertical-align: middle;\n",
       "    }\n",
       "\n",
       "    .dataframe tbody tr th {\n",
       "        vertical-align: top;\n",
       "    }\n",
       "\n",
       "    .dataframe thead th {\n",
       "        text-align: right;\n",
       "    }\n",
       "</style>\n",
       "<table border=\"1\" class=\"dataframe\">\n",
       "  <thead>\n",
       "    <tr style=\"text-align: right;\">\n",
       "      <th></th>\n",
       "      <th>Location</th>\n",
       "      <th>MinTemp</th>\n",
       "      <th>MaxTemp</th>\n",
       "      <th>Rainfall</th>\n",
       "      <th>Evaporation</th>\n",
       "      <th>Sunshine</th>\n",
       "      <th>WindGustDir</th>\n",
       "      <th>WindGustSpeed</th>\n",
       "      <th>WindDir9am</th>\n",
       "      <th>WindDir3pm</th>\n",
       "      <th>...</th>\n",
       "      <th>Pressure3pm</th>\n",
       "      <th>Cloud9am</th>\n",
       "      <th>Cloud3pm</th>\n",
       "      <th>Temp9am</th>\n",
       "      <th>Temp3pm</th>\n",
       "      <th>RainToday</th>\n",
       "      <th>RainTomorrow</th>\n",
       "      <th>Year</th>\n",
       "      <th>Month</th>\n",
       "      <th>Day</th>\n",
       "    </tr>\n",
       "  </thead>\n",
       "  <tbody>\n",
       "    <tr>\n",
       "      <th>0</th>\n",
       "      <td>Sydney</td>\n",
       "      <td>8.7</td>\n",
       "      <td>17.2</td>\n",
       "      <td>0.0</td>\n",
       "      <td>3.8</td>\n",
       "      <td>9.9</td>\n",
       "      <td>WNW</td>\n",
       "      <td>54.0</td>\n",
       "      <td>WNW</td>\n",
       "      <td>W</td>\n",
       "      <td>...</td>\n",
       "      <td>1016.3</td>\n",
       "      <td>2.0</td>\n",
       "      <td>2.0</td>\n",
       "      <td>12.2</td>\n",
       "      <td>16.6</td>\n",
       "      <td>No</td>\n",
       "      <td>0</td>\n",
       "      <td>2013</td>\n",
       "      <td>7</td>\n",
       "      <td>22</td>\n",
       "    </tr>\n",
       "    <tr>\n",
       "      <th>1</th>\n",
       "      <td>Sale</td>\n",
       "      <td>15.4</td>\n",
       "      <td>25.7</td>\n",
       "      <td>0.0</td>\n",
       "      <td>NaN</td>\n",
       "      <td>NaN</td>\n",
       "      <td>W</td>\n",
       "      <td>67.0</td>\n",
       "      <td>NNE</td>\n",
       "      <td>WSW</td>\n",
       "      <td>...</td>\n",
       "      <td>1005.1</td>\n",
       "      <td>8.0</td>\n",
       "      <td>8.0</td>\n",
       "      <td>18.8</td>\n",
       "      <td>24.3</td>\n",
       "      <td>No</td>\n",
       "      <td>1</td>\n",
       "      <td>2015</td>\n",
       "      <td>2</td>\n",
       "      <td>28</td>\n",
       "    </tr>\n",
       "    <tr>\n",
       "      <th>2</th>\n",
       "      <td>PerthAirport</td>\n",
       "      <td>15.2</td>\n",
       "      <td>22.2</td>\n",
       "      <td>7.2</td>\n",
       "      <td>5.2</td>\n",
       "      <td>3.3</td>\n",
       "      <td>NW</td>\n",
       "      <td>78.0</td>\n",
       "      <td>NW</td>\n",
       "      <td>WSW</td>\n",
       "      <td>...</td>\n",
       "      <td>1000.1</td>\n",
       "      <td>7.0</td>\n",
       "      <td>8.0</td>\n",
       "      <td>20.1</td>\n",
       "      <td>16.5</td>\n",
       "      <td>Yes</td>\n",
       "      <td>1</td>\n",
       "      <td>2009</td>\n",
       "      <td>11</td>\n",
       "      <td>18</td>\n",
       "    </tr>\n",
       "  </tbody>\n",
       "</table>\n",
       "<p>3 rows × 25 columns</p>\n",
       "</div>"
      ],
      "text/plain": [
       "       Location  MinTemp  MaxTemp  Rainfall  Evaporation  Sunshine  \\\n",
       "0        Sydney      8.7     17.2       0.0          3.8       9.9   \n",
       "1          Sale     15.4     25.7       0.0          NaN       NaN   \n",
       "2  PerthAirport     15.2     22.2       7.2          5.2       3.3   \n",
       "\n",
       "  WindGustDir  WindGustSpeed WindDir9am WindDir3pm  ...  Pressure3pm  \\\n",
       "0         WNW           54.0        WNW          W  ...       1016.3   \n",
       "1           W           67.0        NNE        WSW  ...       1005.1   \n",
       "2          NW           78.0         NW        WSW  ...       1000.1   \n",
       "\n",
       "   Cloud9am  Cloud3pm  Temp9am  Temp3pm  RainToday  RainTomorrow  Year  Month  \\\n",
       "0       2.0       2.0     12.2     16.6         No             0  2013      7   \n",
       "1       8.0       8.0     18.8     24.3         No             1  2015      2   \n",
       "2       7.0       8.0     20.1     16.5        Yes             1  2009     11   \n",
       "\n",
       "   Day  \n",
       "0   22  \n",
       "1   28  \n",
       "2   18  \n",
       "\n",
       "[3 rows x 25 columns]"
      ]
     },
     "execution_count": 8,
     "metadata": {},
     "output_type": "execute_result"
    }
   ],
   "source": [
    "#Let's devide data on day, month and year\n",
    "df['Date'] = pd.to_datetime(df['Date']) #new format\n",
    "df['Year'] = df['Date'].dt.year\n",
    "df['Month'] = df['Date'].dt.month\n",
    "df['Day'] = df['Date'].dt.day\n",
    "df.drop('Date', axis=1, inplace = True) #delete \"Date\"\n",
    "df.head(3)"
   ]
  },
  {
   "cell_type": "code",
   "execution_count": 9,
   "metadata": {
    "execution": {
     "iopub.execute_input": "2021-03-04T15:33:20.023343Z",
     "iopub.status.busy": "2021-03-04T15:33:20.022642Z",
     "iopub.status.idle": "2021-03-04T15:33:20.031219Z",
     "shell.execute_reply": "2021-03-04T15:33:20.030632Z"
    },
    "papermill": {
     "duration": 0.063997,
     "end_time": "2021-03-04T15:33:20.031373",
     "exception": false,
     "start_time": "2021-03-04T15:33:19.967376",
     "status": "completed"
    },
    "tags": []
   },
   "outputs": [],
   "source": [
    "df.drop('Location', axis=1, inplace = True) #delete \"Date\""
   ]
  },
  {
   "cell_type": "code",
   "execution_count": 10,
   "metadata": {
    "execution": {
     "iopub.execute_input": "2021-03-04T15:33:20.135506Z",
     "iopub.status.busy": "2021-03-04T15:33:20.134809Z",
     "iopub.status.idle": "2021-03-04T15:33:20.146302Z",
     "shell.execute_reply": "2021-03-04T15:33:20.146923Z"
    },
    "papermill": {
     "duration": 0.073316,
     "end_time": "2021-03-04T15:33:20.147128",
     "exception": false,
     "start_time": "2021-03-04T15:33:20.073812",
     "status": "completed"
    },
    "tags": []
   },
   "outputs": [
    {
     "data": {
      "text/plain": [
       "Yes    22320\n",
       "NaN     2300\n",
       "dtype: int64"
      ]
     },
     "execution_count": 10,
     "metadata": {},
     "output_type": "execute_result"
    }
   ],
   "source": [
    "\n",
    "pd.get_dummies(df.RainToday, drop_first=True, dummy_na=True).sum(axis=0)"
   ]
  },
  {
   "cell_type": "code",
   "execution_count": 11,
   "metadata": {
    "execution": {
     "iopub.execute_input": "2021-03-04T15:33:20.237585Z",
     "iopub.status.busy": "2021-03-04T15:33:20.236430Z",
     "iopub.status.idle": "2021-03-04T15:33:20.296800Z",
     "shell.execute_reply": "2021-03-04T15:33:20.297332Z"
    },
    "papermill": {
     "duration": 0.10795,
     "end_time": "2021-03-04T15:33:20.297544",
     "exception": false,
     "start_time": "2021-03-04T15:33:20.189594",
     "status": "completed"
    },
    "tags": []
   },
   "outputs": [],
   "source": [
    "df = df.dropna(axis='index', how='any', subset=['RainToday'])"
   ]
  },
  {
   "cell_type": "code",
   "execution_count": 12,
   "metadata": {
    "execution": {
     "iopub.execute_input": "2021-03-04T15:33:20.398036Z",
     "iopub.status.busy": "2021-03-04T15:33:20.397357Z",
     "iopub.status.idle": "2021-03-04T15:33:20.408405Z",
     "shell.execute_reply": "2021-03-04T15:33:20.407827Z"
    },
    "papermill": {
     "duration": 0.067976,
     "end_time": "2021-03-04T15:33:20.408557",
     "exception": false,
     "start_time": "2021-03-04T15:33:20.340581",
     "status": "completed"
    },
    "tags": []
   },
   "outputs": [
    {
     "data": {
      "text/plain": [
       "MinTemp            331\n",
       "MaxTemp            331\n",
       "Rainfall             0\n",
       "Evaporation      42244\n",
       "Sunshine         47354\n",
       "WindGustSpeed     6853\n",
       "WindSpeed9am       792\n",
       "WindSpeed3pm      1874\n",
       "Humidity9am       1083\n",
       "Humidity3pm       2559\n",
       "Pressure9am       9768\n",
       "Pressure3pm       9798\n",
       "Cloud9am         37178\n",
       "Cloud3pm         39669\n",
       "Temp9am            469\n",
       "Temp3pm           1928\n",
       "RainTomorrow         0\n",
       "Year                 0\n",
       "Month                0\n",
       "Day                  0\n",
       "dtype: int64"
      ]
     },
     "execution_count": 12,
     "metadata": {},
     "output_type": "execute_result"
    }
   ],
   "source": [
    "#Let's see, how much missing values we have\n",
    "num = [var for var in df.columns if df[var].dtype!='O']\n",
    "df[num].isnull().sum()"
   ]
  },
  {
   "cell_type": "code",
   "execution_count": 13,
   "metadata": {
    "execution": {
     "iopub.execute_input": "2021-03-04T15:33:20.500396Z",
     "iopub.status.busy": "2021-03-04T15:33:20.499452Z",
     "iopub.status.idle": "2021-03-04T15:33:20.600211Z",
     "shell.execute_reply": "2021-03-04T15:33:20.599601Z"
    },
    "papermill": {
     "duration": 0.14752,
     "end_time": "2021-03-04T15:33:20.600357",
     "exception": false,
     "start_time": "2021-03-04T15:33:20.452837",
     "status": "completed"
    },
    "tags": []
   },
   "outputs": [],
   "source": [
    "df = df.dropna(axis='index', how='any', subset=['MinTemp'])\n",
    "df = df.dropna(axis='index', how='any', subset=['MaxTemp'])\n",
    "df = df.dropna(axis='index', how='any', subset=['WindSpeed9am'])\n",
    "df = df.dropna(axis='index', how='any', subset=['WindSpeed3pm'])\n",
    "df = df.dropna(axis='index', how='any', subset=['Humidity9am'])\n",
    "df = df.dropna(axis='index', how='any', subset=['Humidity3pm'])\n",
    "df = df.dropna(axis='index', how='any', subset=['Temp9am'])\n",
    "df = df.dropna(axis='index', how='any', subset=['Temp3pm'])"
   ]
  },
  {
   "cell_type": "code",
   "execution_count": 14,
   "metadata": {
    "execution": {
     "iopub.execute_input": "2021-03-04T15:33:20.696926Z",
     "iopub.status.busy": "2021-03-04T15:33:20.696181Z",
     "iopub.status.idle": "2021-03-04T15:33:20.707330Z",
     "shell.execute_reply": "2021-03-04T15:33:20.706713Z"
    },
    "papermill": {
     "duration": 0.06368,
     "end_time": "2021-03-04T15:33:20.707480",
     "exception": false,
     "start_time": "2021-03-04T15:33:20.643800",
     "status": "completed"
    },
    "tags": []
   },
   "outputs": [
    {
     "data": {
      "text/plain": [
       "MinTemp              0\n",
       "MaxTemp              0\n",
       "Rainfall             0\n",
       "Evaporation      40079\n",
       "Sunshine         44237\n",
       "WindGustSpeed     4783\n",
       "WindSpeed9am         0\n",
       "WindSpeed3pm         0\n",
       "Humidity9am          0\n",
       "Humidity3pm          0\n",
       "Pressure9am       8185\n",
       "Pressure3pm       8144\n",
       "Cloud9am         35577\n",
       "Cloud3pm         36580\n",
       "Temp9am              0\n",
       "Temp3pm              0\n",
       "RainTomorrow         0\n",
       "Year                 0\n",
       "Month                0\n",
       "Day                  0\n",
       "dtype: int64"
      ]
     },
     "execution_count": 14,
     "metadata": {},
     "output_type": "execute_result"
    }
   ],
   "source": [
    "df[num].isnull().sum()"
   ]
  },
  {
   "cell_type": "code",
   "execution_count": 15,
   "metadata": {
    "execution": {
     "iopub.execute_input": "2021-03-04T15:33:20.800879Z",
     "iopub.status.busy": "2021-03-04T15:33:20.799780Z",
     "iopub.status.idle": "2021-03-04T15:33:20.805144Z",
     "shell.execute_reply": "2021-03-04T15:33:20.805757Z"
    },
    "papermill": {
     "duration": 0.05414,
     "end_time": "2021-03-04T15:33:20.805935",
     "exception": false,
     "start_time": "2021-03-04T15:33:20.751795",
     "status": "completed"
    },
    "tags": []
   },
   "outputs": [
    {
     "name": "stdout",
     "output_type": "stream",
     "text": [
      "95716.0\n"
     ]
    }
   ],
   "source": [
    "print(np.float(len(df)))"
   ]
  },
  {
   "cell_type": "markdown",
   "metadata": {
    "papermill": {
     "duration": 0.045029,
     "end_time": "2021-03-04T15:33:20.895944",
     "exception": false,
     "start_time": "2021-03-04T15:33:20.850915",
     "status": "completed"
    },
    "tags": []
   },
   "source": [
    "### Corellation:"
   ]
  },
  {
   "cell_type": "code",
   "execution_count": 16,
   "metadata": {
    "execution": {
     "iopub.execute_input": "2021-03-04T15:33:20.993869Z",
     "iopub.status.busy": "2021-03-04T15:33:20.993187Z",
     "iopub.status.idle": "2021-03-04T15:33:21.131035Z",
     "shell.execute_reply": "2021-03-04T15:33:21.131494Z"
    },
    "papermill": {
     "duration": 0.189792,
     "end_time": "2021-03-04T15:33:21.131673",
     "exception": false,
     "start_time": "2021-03-04T15:33:20.941881",
     "status": "completed"
    },
    "tags": []
   },
   "outputs": [
    {
     "data": {
      "text/plain": [
       "RainTomorrow     1.000000\n",
       "Humidity3pm      0.444134\n",
       "Cloud3pm         0.379180\n",
       "Cloud9am         0.311599\n",
       "Humidity9am      0.253716\n",
       "Rainfall         0.241344\n",
       "WindGustSpeed    0.231396\n",
       "WindSpeed9am     0.087976\n",
       "MinTemp          0.087448\n",
       "WindSpeed3pm     0.084987\n",
       "Month            0.005167\n",
       "Day              0.003761\n",
       "Year            -0.013126\n",
       "Temp9am         -0.022454\n",
       "Evaporation     -0.118795\n",
       "MaxTemp         -0.155345\n",
       "Temp3pm         -0.189661\n",
       "Pressure3pm     -0.227927\n",
       "Pressure9am     -0.246564\n",
       "Sunshine        -0.450837\n",
       "Name: RainTomorrow, dtype: float64"
      ]
     },
     "execution_count": 16,
     "metadata": {},
     "output_type": "execute_result"
    }
   ],
   "source": [
    "corr_matrix=df.corr()\n",
    "corr_matrix['RainTomorrow'].sort_values(ascending=False)"
   ]
  },
  {
   "cell_type": "code",
   "execution_count": 17,
   "metadata": {
    "execution": {
     "iopub.execute_input": "2021-03-04T15:33:21.224746Z",
     "iopub.status.busy": "2021-03-04T15:33:21.224052Z",
     "iopub.status.idle": "2021-03-04T15:33:21.226946Z",
     "shell.execute_reply": "2021-03-04T15:33:21.227563Z"
    },
    "papermill": {
     "duration": 0.051459,
     "end_time": "2021-03-04T15:33:21.227730",
     "exception": false,
     "start_time": "2021-03-04T15:33:21.176271",
     "status": "completed"
    },
    "tags": []
   },
   "outputs": [],
   "source": [
    "#Let's remove the unnecessary features for the models\n",
    "#Location: It doesn't matter\n",
    "#Evaporation, Sunshine, Cloud9am, Cloud3pm : This features have much null values and a large grade."
   ]
  },
  {
   "cell_type": "code",
   "execution_count": 18,
   "metadata": {
    "execution": {
     "iopub.execute_input": "2021-03-04T15:33:21.323133Z",
     "iopub.status.busy": "2021-03-04T15:33:21.322449Z",
     "iopub.status.idle": "2021-03-04T15:33:21.359439Z",
     "shell.execute_reply": "2021-03-04T15:33:21.359959Z"
    },
    "papermill": {
     "duration": 0.085831,
     "end_time": "2021-03-04T15:33:21.360159",
     "exception": false,
     "start_time": "2021-03-04T15:33:21.274328",
     "status": "completed"
    },
    "tags": []
   },
   "outputs": [
    {
     "data": {
      "text/html": [
       "<div>\n",
       "<style scoped>\n",
       "    .dataframe tbody tr th:only-of-type {\n",
       "        vertical-align: middle;\n",
       "    }\n",
       "\n",
       "    .dataframe tbody tr th {\n",
       "        vertical-align: top;\n",
       "    }\n",
       "\n",
       "    .dataframe thead th {\n",
       "        text-align: right;\n",
       "    }\n",
       "</style>\n",
       "<table border=\"1\" class=\"dataframe\">\n",
       "  <thead>\n",
       "    <tr style=\"text-align: right;\">\n",
       "      <th></th>\n",
       "      <th>MinTemp</th>\n",
       "      <th>MaxTemp</th>\n",
       "      <th>Rainfall</th>\n",
       "      <th>Sunshine</th>\n",
       "      <th>WindGustDir</th>\n",
       "      <th>WindGustSpeed</th>\n",
       "      <th>WindDir9am</th>\n",
       "      <th>WindDir3pm</th>\n",
       "      <th>WindSpeed9am</th>\n",
       "      <th>WindSpeed3pm</th>\n",
       "      <th>...</th>\n",
       "      <th>Humidity3pm</th>\n",
       "      <th>Pressure9am</th>\n",
       "      <th>Pressure3pm</th>\n",
       "      <th>Temp9am</th>\n",
       "      <th>Temp3pm</th>\n",
       "      <th>RainToday</th>\n",
       "      <th>RainTomorrow</th>\n",
       "      <th>Year</th>\n",
       "      <th>Month</th>\n",
       "      <th>Day</th>\n",
       "    </tr>\n",
       "  </thead>\n",
       "  <tbody>\n",
       "    <tr>\n",
       "      <th>0</th>\n",
       "      <td>8.7</td>\n",
       "      <td>17.2</td>\n",
       "      <td>0.0</td>\n",
       "      <td>9.9</td>\n",
       "      <td>WNW</td>\n",
       "      <td>54.0</td>\n",
       "      <td>WNW</td>\n",
       "      <td>W</td>\n",
       "      <td>17.0</td>\n",
       "      <td>26.0</td>\n",
       "      <td>...</td>\n",
       "      <td>28.0</td>\n",
       "      <td>1019.4</td>\n",
       "      <td>1016.3</td>\n",
       "      <td>12.2</td>\n",
       "      <td>16.6</td>\n",
       "      <td>No</td>\n",
       "      <td>0</td>\n",
       "      <td>2013</td>\n",
       "      <td>7</td>\n",
       "      <td>22</td>\n",
       "    </tr>\n",
       "    <tr>\n",
       "      <th>1</th>\n",
       "      <td>15.4</td>\n",
       "      <td>25.7</td>\n",
       "      <td>0.0</td>\n",
       "      <td>NaN</td>\n",
       "      <td>W</td>\n",
       "      <td>67.0</td>\n",
       "      <td>NNE</td>\n",
       "      <td>WSW</td>\n",
       "      <td>11.0</td>\n",
       "      <td>9.0</td>\n",
       "      <td>...</td>\n",
       "      <td>66.0</td>\n",
       "      <td>1008.1</td>\n",
       "      <td>1005.1</td>\n",
       "      <td>18.8</td>\n",
       "      <td>24.3</td>\n",
       "      <td>No</td>\n",
       "      <td>1</td>\n",
       "      <td>2015</td>\n",
       "      <td>2</td>\n",
       "      <td>28</td>\n",
       "    </tr>\n",
       "    <tr>\n",
       "      <th>2</th>\n",
       "      <td>15.2</td>\n",
       "      <td>22.2</td>\n",
       "      <td>7.2</td>\n",
       "      <td>3.3</td>\n",
       "      <td>NW</td>\n",
       "      <td>78.0</td>\n",
       "      <td>NW</td>\n",
       "      <td>WSW</td>\n",
       "      <td>33.0</td>\n",
       "      <td>28.0</td>\n",
       "      <td>...</td>\n",
       "      <td>91.0</td>\n",
       "      <td>1001.5</td>\n",
       "      <td>1000.1</td>\n",
       "      <td>20.1</td>\n",
       "      <td>16.5</td>\n",
       "      <td>Yes</td>\n",
       "      <td>1</td>\n",
       "      <td>2009</td>\n",
       "      <td>11</td>\n",
       "      <td>18</td>\n",
       "    </tr>\n",
       "    <tr>\n",
       "      <th>3</th>\n",
       "      <td>19.9</td>\n",
       "      <td>26.4</td>\n",
       "      <td>0.0</td>\n",
       "      <td>NaN</td>\n",
       "      <td>SW</td>\n",
       "      <td>24.0</td>\n",
       "      <td>NNE</td>\n",
       "      <td>WSW</td>\n",
       "      <td>13.0</td>\n",
       "      <td>9.0</td>\n",
       "      <td>...</td>\n",
       "      <td>97.0</td>\n",
       "      <td>1004.6</td>\n",
       "      <td>1002.1</td>\n",
       "      <td>22.6</td>\n",
       "      <td>22.3</td>\n",
       "      <td>No</td>\n",
       "      <td>1</td>\n",
       "      <td>2014</td>\n",
       "      <td>2</td>\n",
       "      <td>19</td>\n",
       "    </tr>\n",
       "    <tr>\n",
       "      <th>4</th>\n",
       "      <td>19.3</td>\n",
       "      <td>32.9</td>\n",
       "      <td>0.0</td>\n",
       "      <td>NaN</td>\n",
       "      <td>W</td>\n",
       "      <td>48.0</td>\n",
       "      <td>NNW</td>\n",
       "      <td>W</td>\n",
       "      <td>19.0</td>\n",
       "      <td>22.0</td>\n",
       "      <td>...</td>\n",
       "      <td>15.0</td>\n",
       "      <td>1022.8</td>\n",
       "      <td>1020.7</td>\n",
       "      <td>22.1</td>\n",
       "      <td>32.6</td>\n",
       "      <td>No</td>\n",
       "      <td>0</td>\n",
       "      <td>2015</td>\n",
       "      <td>10</td>\n",
       "      <td>4</td>\n",
       "    </tr>\n",
       "  </tbody>\n",
       "</table>\n",
       "<p>5 rows × 21 columns</p>\n",
       "</div>"
      ],
      "text/plain": [
       "   MinTemp  MaxTemp  Rainfall  Sunshine WindGustDir  WindGustSpeed WindDir9am  \\\n",
       "0      8.7     17.2       0.0       9.9         WNW           54.0        WNW   \n",
       "1     15.4     25.7       0.0       NaN           W           67.0        NNE   \n",
       "2     15.2     22.2       7.2       3.3          NW           78.0         NW   \n",
       "3     19.9     26.4       0.0       NaN          SW           24.0        NNE   \n",
       "4     19.3     32.9       0.0       NaN           W           48.0        NNW   \n",
       "\n",
       "  WindDir3pm  WindSpeed9am  WindSpeed3pm  ...  Humidity3pm  Pressure9am  \\\n",
       "0          W          17.0          26.0  ...         28.0       1019.4   \n",
       "1        WSW          11.0           9.0  ...         66.0       1008.1   \n",
       "2        WSW          33.0          28.0  ...         91.0       1001.5   \n",
       "3        WSW          13.0           9.0  ...         97.0       1004.6   \n",
       "4          W          19.0          22.0  ...         15.0       1022.8   \n",
       "\n",
       "   Pressure3pm  Temp9am  Temp3pm  RainToday RainTomorrow  Year  Month  Day  \n",
       "0       1016.3     12.2     16.6         No            0  2013      7   22  \n",
       "1       1005.1     18.8     24.3         No            1  2015      2   28  \n",
       "2       1000.1     20.1     16.5        Yes            1  2009     11   18  \n",
       "3       1002.1     22.6     22.3         No            1  2014      2   19  \n",
       "4       1020.7     22.1     32.6         No            0  2015     10    4  \n",
       "\n",
       "[5 rows x 21 columns]"
      ]
     },
     "execution_count": 18,
     "metadata": {},
     "output_type": "execute_result"
    }
   ],
   "source": [
    "df = df.drop(columns=['Evaporation', 'Cloud9am', 'Cloud3pm'], axis=1)\n",
    "#df = df.drop(columns=['Month', 'Day', 'Year', 'Sunshine', 'Evaporation', 'Cloud9am', 'Cloud3pm'], axis=1)\n",
    "df.head()"
   ]
  },
  {
   "cell_type": "code",
   "execution_count": 19,
   "metadata": {
    "execution": {
     "iopub.execute_input": "2021-03-04T15:33:21.456045Z",
     "iopub.status.busy": "2021-03-04T15:33:21.455376Z",
     "iopub.status.idle": "2021-03-04T15:33:21.458468Z",
     "shell.execute_reply": "2021-03-04T15:33:21.458941Z"
    },
    "papermill": {
     "duration": 0.052636,
     "end_time": "2021-03-04T15:33:21.459139",
     "exception": false,
     "start_time": "2021-03-04T15:33:21.406503",
     "status": "completed"
    },
    "tags": []
   },
   "outputs": [],
   "source": [
    "#Let's see distributions"
   ]
  },
  {
   "cell_type": "code",
   "execution_count": 20,
   "metadata": {
    "execution": {
     "iopub.execute_input": "2021-03-04T15:33:21.554696Z",
     "iopub.status.busy": "2021-03-04T15:33:21.553940Z",
     "iopub.status.idle": "2021-03-04T15:33:24.369056Z",
     "shell.execute_reply": "2021-03-04T15:33:24.369565Z"
    },
    "papermill": {
     "duration": 2.864697,
     "end_time": "2021-03-04T15:33:24.369747",
     "exception": false,
     "start_time": "2021-03-04T15:33:21.505050",
     "status": "completed"
    },
    "tags": []
   },
   "outputs": [
    {
     "data": {
      "text/plain": [
       "Text(0, 0.5, 'RainTomorrow')"
      ]
     },
     "execution_count": 20,
     "metadata": {},
     "output_type": "execute_result"
    },
    {
     "data": {
      "image/png": "[encoded data removed]",
      "text/plain": [
       "<Figure size 1728x1080 with 12 Axes>"
      ]
     },
     "metadata": {
      "needs_background": "light"
     },
     "output_type": "display_data"
    }
   ],
   "source": [
    "plt.figure(figsize=(24,15))\n",
    "\n",
    "plt.subplot(4, 4, 1)\n",
    "fig = df.MinTemp.hist(bins=50)\n",
    "fig.set_xlabel('MinTemp')\n",
    "fig.set_ylabel('RainTomorrow')\n",
    "\n",
    "plt.subplot(4, 4, 2)\n",
    "fig = df.MaxTemp.hist(bins=50)\n",
    "fig.set_xlabel('MaxTemp')\n",
    "fig.set_ylabel('RainTomorrow')\n",
    "\n",
    "plt.subplot(4, 4, 3)\n",
    "fig = df.Rainfall.hist(bins=50)\n",
    "fig.set_xlabel('Rainfall')\n",
    "fig.set_ylabel('RainTomorrow')\n",
    "\n",
    "plt.subplot(4, 4, 4)\n",
    "fig = df.WindGustSpeed.hist(bins=50)\n",
    "fig.set_xlabel('WindGustSpeed')\n",
    "fig.set_ylabel('RainTomorrow')\n",
    "\n",
    "plt.subplot(4, 4, 5)\n",
    "fig = df.WindSpeed9am.hist(bins=50)\n",
    "fig.set_xlabel('WindSpeed9am')\n",
    "fig.set_ylabel('RainTomorrow')\n",
    "\n",
    "plt.subplot(4, 4, 6)\n",
    "fig = df.WindSpeed3pm.hist(bins=50)\n",
    "fig.set_xlabel('WindSpeed3pm')\n",
    "fig.set_ylabel('RainTomorrow')\n",
    "\n",
    "plt.subplot(4, 4, 7)\n",
    "fig = df.Humidity9am.hist(bins=50)\n",
    "fig.set_xlabel('Humidity9am')\n",
    "fig.set_ylabel('RainTomorrow')\n",
    "\n",
    "plt.subplot(4, 4, 8)\n",
    "fig = df.Humidity3pm.hist(bins=50)\n",
    "fig.set_xlabel('Humidity3pm')\n",
    "fig.set_ylabel('RainTomorrow')\n",
    "\n",
    "plt.subplot(4, 4, 9)\n",
    "fig = df.Pressure9am.hist(bins=50)\n",
    "fig.set_xlabel('Pressure9am')\n",
    "fig.set_ylabel('RainTomorrow')\n",
    "\n",
    "plt.subplot(4, 4, 10)\n",
    "fig = df.Pressure3pm.hist(bins=50)\n",
    "fig.set_xlabel('Pressure3pm')\n",
    "fig.set_ylabel('RainTomorrow')\n",
    "\n",
    "plt.subplot(4, 4, 11)\n",
    "fig = df.Temp9am.hist(bins=50)\n",
    "fig.set_xlabel('Temp9am')\n",
    "fig.set_ylabel('RainTomorrow')\n",
    "\n",
    "plt.subplot(4, 4, 12)\n",
    "fig = df.Temp3pm.hist(bins=50)\n",
    "fig.set_xlabel('Temp3pm')\n",
    "fig.set_ylabel('RainTomorrow')"
   ]
  },
  {
   "cell_type": "markdown",
   "metadata": {
    "papermill": {
     "duration": 0.047936,
     "end_time": "2021-03-04T15:33:24.466648",
     "exception": false,
     "start_time": "2021-03-04T15:33:24.418712",
     "status": "completed"
    },
    "tags": []
   },
   "source": [
    "## Removing outliers"
   ]
  },
  {
   "cell_type": "code",
   "execution_count": 21,
   "metadata": {
    "execution": {
     "iopub.execute_input": "2021-03-04T15:33:24.581944Z",
     "iopub.status.busy": "2021-03-04T15:33:24.581287Z",
     "iopub.status.idle": "2021-03-04T15:33:24.692365Z",
     "shell.execute_reply": "2021-03-04T15:33:24.691739Z"
    },
    "papermill": {
     "duration": 0.177431,
     "end_time": "2021-03-04T15:33:24.692518",
     "exception": false,
     "start_time": "2021-03-04T15:33:24.515087",
     "status": "completed"
    },
    "tags": []
   },
   "outputs": [
    {
     "name": "stdout",
     "output_type": "stream",
     "text": [
      "       MinTemp  MaxTemp  Rainfall  Sunshine  WindGustSpeed  WindSpeed9am  \\\n",
      "count  95716.0  95716.0   95716.0   51479.0        90933.0       95716.0   \n",
      "mean      12.0     23.0       2.0       8.0           40.0          14.0   \n",
      "std        6.0      7.0       8.0       4.0           14.0           9.0   \n",
      "min       -8.0     -5.0       0.0       0.0            7.0           0.0   \n",
      "25%        8.0     18.0       0.0       5.0           31.0           7.0   \n",
      "50%       12.0     23.0       0.0       8.0           39.0          13.0   \n",
      "75%       17.0     28.0       1.0      11.0           48.0          19.0   \n",
      "max       32.0     48.0     368.0      14.0          135.0          87.0   \n",
      "\n",
      "       WindSpeed3pm  Humidity9am  Humidity3pm  Pressure9am  Pressure3pm  \\\n",
      "count       95716.0      95716.0      95716.0      87531.0      87572.0   \n",
      "mean           19.0         69.0         51.0       1018.0       1015.0   \n",
      "std             9.0         19.0         21.0          7.0          7.0   \n",
      "min             0.0          1.0          0.0        980.0        977.0   \n",
      "25%            13.0         57.0         36.0       1013.0       1010.0   \n",
      "50%            19.0         70.0         52.0       1018.0       1015.0   \n",
      "75%            24.0         83.0         65.0       1022.0       1020.0   \n",
      "max            87.0        100.0        100.0       1041.0       1038.0   \n",
      "\n",
      "       Temp9am  Temp3pm  RainTomorrow     Year    Month      Day  \n",
      "count  95716.0  95716.0       95716.0  95716.0  95716.0  95716.0  \n",
      "mean      17.0     22.0           0.0   2013.0      6.0     16.0  \n",
      "std        6.0      7.0           0.0      3.0      3.0      9.0  \n",
      "min       -7.0     -5.0           0.0   2007.0      1.0      1.0  \n",
      "25%       12.0     17.0           0.0   2010.0      3.0      8.0  \n",
      "50%       17.0     21.0           0.0   2013.0      6.0     16.0  \n",
      "75%       22.0     26.0           0.0   2015.0      9.0     23.0  \n",
      "max       39.0     46.0           1.0   2017.0     12.0     31.0  \n"
     ]
    }
   ],
   "source": [
    "num = [var for var in df.columns if df[var].dtype!='O']\n",
    "print(round(df[num].describe()))"
   ]
  },
  {
   "cell_type": "code",
   "execution_count": 22,
   "metadata": {
    "execution": {
     "iopub.execute_input": "2021-03-04T15:33:24.796201Z",
     "iopub.status.busy": "2021-03-04T15:33:24.795330Z",
     "iopub.status.idle": "2021-03-04T15:33:24.799400Z",
     "shell.execute_reply": "2021-03-04T15:33:24.798689Z"
    },
    "papermill": {
     "duration": 0.058152,
     "end_time": "2021-03-04T15:33:24.799574",
     "exception": false,
     "start_time": "2021-03-04T15:33:24.741422",
     "status": "completed"
    },
    "tags": []
   },
   "outputs": [],
   "source": [
    "# We see problems in Rainfall, WindGustSpeed, WindSpeed9am, WindSpeed3pm, Humidity9am, Humidity3pm"
   ]
  },
  {
   "cell_type": "code",
   "execution_count": 23,
   "metadata": {
    "execution": {
     "iopub.execute_input": "2021-03-04T15:33:24.906728Z",
     "iopub.status.busy": "2021-03-04T15:33:24.905552Z",
     "iopub.status.idle": "2021-03-04T15:33:24.921986Z",
     "shell.execute_reply": "2021-03-04T15:33:24.921442Z"
    },
    "papermill": {
     "duration": 0.072763,
     "end_time": "2021-03-04T15:33:24.922174",
     "exception": false,
     "start_time": "2021-03-04T15:33:24.849411",
     "status": "completed"
    },
    "tags": []
   },
   "outputs": [
    {
     "name": "stdout",
     "output_type": "stream",
     "text": [
      "WindGustSpeed outliers are values < 5.5 or > 73.5\n"
     ]
    }
   ],
   "source": [
    "IQR = df.WindGustSpeed.quantile(0.75) - df.WindGustSpeed.quantile(0.25)\n",
    "Lower_fence = df.WindGustSpeed.quantile(0.25) - (IQR * 3/2)\n",
    "Upper_fence = df.WindGustSpeed.quantile(0.75) + (IQR * 3/2)\n",
    "print('WindGustSpeed outliers are values < {lowerboundary} or > {upperboundary}'.format(\n",
    "    lowerboundary=Lower_fence, upperboundary=Upper_fence))"
   ]
  },
  {
   "cell_type": "code",
   "execution_count": 24,
   "metadata": {
    "execution": {
     "iopub.execute_input": "2021-03-04T15:33:25.028303Z",
     "iopub.status.busy": "2021-03-04T15:33:25.027558Z",
     "iopub.status.idle": "2021-03-04T15:33:25.085143Z",
     "shell.execute_reply": "2021-03-04T15:33:25.083795Z"
    },
    "papermill": {
     "duration": 0.11268,
     "end_time": "2021-03-04T15:33:25.085333",
     "exception": false,
     "start_time": "2021-03-04T15:33:24.972653",
     "status": "completed"
    },
    "tags": []
   },
   "outputs": [],
   "source": [
    "df = df.drop(df[df.WindGustSpeed > 74].index)\n",
    "df = df.drop(df[df.WindGustSpeed < 5].index)"
   ]
  },
  {
   "cell_type": "code",
   "execution_count": 25,
   "metadata": {
    "execution": {
     "iopub.execute_input": "2021-03-04T15:33:25.193729Z",
     "iopub.status.busy": "2021-03-04T15:33:25.188029Z",
     "iopub.status.idle": "2021-03-04T15:33:25.205560Z",
     "shell.execute_reply": "2021-03-04T15:33:25.204779Z"
    },
    "papermill": {
     "duration": 0.07029,
     "end_time": "2021-03-04T15:33:25.205714",
     "exception": false,
     "start_time": "2021-03-04T15:33:25.135424",
     "status": "completed"
    },
    "tags": []
   },
   "outputs": [
    {
     "data": {
      "text/plain": [
       "MinTemp              0\n",
       "MaxTemp              0\n",
       "Rainfall             0\n",
       "Sunshine         43553\n",
       "WindGustSpeed     4783\n",
       "WindSpeed9am         0\n",
       "WindSpeed3pm         0\n",
       "Humidity9am          0\n",
       "Humidity3pm          0\n",
       "Pressure9am       8053\n",
       "Pressure3pm       8012\n",
       "Temp9am              0\n",
       "Temp3pm              0\n",
       "RainTomorrow         0\n",
       "Year                 0\n",
       "Month                0\n",
       "Day                  0\n",
       "dtype: int64"
      ]
     },
     "execution_count": 25,
     "metadata": {},
     "output_type": "execute_result"
    }
   ],
   "source": [
    "df[num].isnull().sum()"
   ]
  },
  {
   "cell_type": "code",
   "execution_count": 26,
   "metadata": {
    "execution": {
     "iopub.execute_input": "2021-03-04T15:33:25.313163Z",
     "iopub.status.busy": "2021-03-04T15:33:25.312509Z",
     "iopub.status.idle": "2021-03-04T15:33:25.316474Z",
     "shell.execute_reply": "2021-03-04T15:33:25.315778Z"
    },
    "papermill": {
     "duration": 0.058817,
     "end_time": "2021-03-04T15:33:25.316618",
     "exception": false,
     "start_time": "2021-03-04T15:33:25.257801",
     "status": "completed"
    },
    "tags": []
   },
   "outputs": [
    {
     "name": "stdout",
     "output_type": "stream",
     "text": [
      "94035.0\n"
     ]
    }
   ],
   "source": [
    "print(np.float(len(df)))"
   ]
  },
  {
   "cell_type": "code",
   "execution_count": 27,
   "metadata": {
    "execution": {
     "iopub.execute_input": "2021-03-04T15:33:25.427442Z",
     "iopub.status.busy": "2021-03-04T15:33:25.426692Z",
     "iopub.status.idle": "2021-03-04T15:33:25.533207Z",
     "shell.execute_reply": "2021-03-04T15:33:25.532423Z"
    },
    "papermill": {
     "duration": 0.165486,
     "end_time": "2021-03-04T15:33:25.533368",
     "exception": false,
     "start_time": "2021-03-04T15:33:25.367882",
     "status": "completed"
    },
    "tags": []
   },
   "outputs": [],
   "source": [
    "from scipy import stats\n",
    "\n",
    "df['z_score']=stats.zscore(df['Rainfall'])\n",
    "df = df.drop(df[df.z_score.abs() > 3].index)\n",
    "\n",
    "df['z_score']=stats.zscore(df['WindSpeed9am'])\n",
    "df = df.drop(df[df.z_score.abs() > 3].index)\n",
    "\n",
    "df['z_score']=stats.zscore(df['WindSpeed3pm'])\n",
    "df = df.drop(df[df.z_score.abs() > 3].index)\n",
    "\n",
    "df['z_score']=stats.zscore(df['Humidity9am'])\n",
    "df = df.drop(df[df.z_score.abs() > 3].index)\n",
    "\n",
    "df['z_score']=stats.zscore(df['Humidity3pm'])\n",
    "df = df.drop(df[df.z_score.abs() > 3].index)\n",
    "df.drop('z_score', axis=1, inplace = True)"
   ]
  },
  {
   "cell_type": "code",
   "execution_count": 28,
   "metadata": {
    "execution": {
     "iopub.execute_input": "2021-03-04T15:33:25.641590Z",
     "iopub.status.busy": "2021-03-04T15:33:25.640661Z",
     "iopub.status.idle": "2021-03-04T15:33:25.643860Z",
     "shell.execute_reply": "2021-03-04T15:33:25.644373Z"
    },
    "papermill": {
     "duration": 0.060164,
     "end_time": "2021-03-04T15:33:25.644564",
     "exception": false,
     "start_time": "2021-03-04T15:33:25.584400",
     "status": "completed"
    },
    "tags": []
   },
   "outputs": [
    {
     "name": "stdout",
     "output_type": "stream",
     "text": [
      "91150.0\n"
     ]
    }
   ],
   "source": [
    "print(np.float(len(df)))"
   ]
  },
  {
   "cell_type": "markdown",
   "metadata": {
    "papermill": {
     "duration": 0.050736,
     "end_time": "2021-03-04T15:33:25.746657",
     "exception": false,
     "start_time": "2021-03-04T15:33:25.695921",
     "status": "completed"
    },
    "tags": []
   },
   "source": [
    "### Extract input and output data from the dataset:"
   ]
  },
  {
   "cell_type": "code",
   "execution_count": 29,
   "metadata": {
    "execution": {
     "iopub.execute_input": "2021-03-04T15:33:25.858138Z",
     "iopub.status.busy": "2021-03-04T15:33:25.856993Z",
     "iopub.status.idle": "2021-03-04T15:33:25.863400Z",
     "shell.execute_reply": "2021-03-04T15:33:25.862820Z"
    },
    "papermill": {
     "duration": 0.065688,
     "end_time": "2021-03-04T15:33:25.863545",
     "exception": false,
     "start_time": "2021-03-04T15:33:25.797857",
     "status": "completed"
    },
    "tags": []
   },
   "outputs": [],
   "source": [
    "X = df.drop(['RainTomorrow'], axis=1)\n",
    "y = df['RainTomorrow']"
   ]
  },
  {
   "cell_type": "code",
   "execution_count": 30,
   "metadata": {
    "execution": {
     "iopub.execute_input": "2021-03-04T15:33:25.985145Z",
     "iopub.status.busy": "2021-03-04T15:33:25.970878Z",
     "iopub.status.idle": "2021-03-04T15:33:25.995197Z",
     "shell.execute_reply": "2021-03-04T15:33:25.994600Z"
    },
    "papermill": {
     "duration": 0.080583,
     "end_time": "2021-03-04T15:33:25.995440",
     "exception": false,
     "start_time": "2021-03-04T15:33:25.914857",
     "status": "completed"
    },
    "tags": []
   },
   "outputs": [
    {
     "name": "stdout",
     "output_type": "stream",
     "text": [
      "        MinTemp  MaxTemp  Rainfall  Sunshine WindGustDir  WindGustSpeed  \\\n",
      "0           8.7     17.2       0.0       9.9         WNW           54.0   \n",
      "1          15.4     25.7       0.0       NaN           W           67.0   \n",
      "3          19.9     26.4       0.0       NaN          SW           24.0   \n",
      "4          19.3     32.9       0.0       NaN           W           48.0   \n",
      "6          -0.3     14.2       0.0       9.7         NNW           43.0   \n",
      "...         ...      ...       ...       ...         ...            ...   \n",
      "101816      0.6     12.8       0.0       6.1         ENE           26.0   \n",
      "101817     11.6     17.0       3.0       NaN         NNW           50.0   \n",
      "101818      7.6     20.4       0.0       9.2         ENE           30.0   \n",
      "101820     10.5     14.6       4.0       NaN           S           33.0   \n",
      "101821      8.2     19.8       0.6       NaN         NaN            NaN   \n",
      "\n",
      "       WindDir9am WindDir3pm  WindSpeed9am  WindSpeed3pm  Humidity9am  \\\n",
      "0             WNW          W          17.0          26.0         54.0   \n",
      "1             NNE        WSW          11.0           9.0         84.0   \n",
      "3             NNE        WSW          13.0           9.0         97.0   \n",
      "4             NNW          W          19.0          22.0         46.0   \n",
      "6              NW        NNW          13.0          28.0         67.0   \n",
      "...           ...        ...           ...           ...          ...   \n",
      "101816        SSE        ESE           9.0          11.0         85.0   \n",
      "101817        NNW        NNW          15.0          13.0         88.0   \n",
      "101818         NE        WNW           9.0          17.0         64.0   \n",
      "101820        SSW        SSW          20.0          19.0         82.0   \n",
      "101821          N         SE           4.0           4.0         50.0   \n",
      "\n",
      "        Humidity3pm  Pressure9am  Pressure3pm  Temp9am  Temp3pm RainToday  \\\n",
      "0              28.0       1019.4       1016.3     12.2     16.6        No   \n",
      "1              66.0       1008.1       1005.1     18.8     24.3        No   \n",
      "3              97.0       1004.6       1002.1     22.6     22.3        No   \n",
      "4              15.0       1022.8       1020.7     22.1     32.6        No   \n",
      "6              50.0       1019.0       1015.5      9.2     13.7        No   \n",
      "...             ...          ...          ...      ...      ...       ...   \n",
      "101816         53.0       1033.1       1030.4      8.5     12.4        No   \n",
      "101817         90.0       1013.2       1008.9     14.0     15.0       Yes   \n",
      "101818         35.0       1027.7       1024.2     12.1     19.9        No   \n",
      "101820         90.0       1024.6       1021.6     12.2     13.9       Yes   \n",
      "101821         51.0          NaN          NaN     16.6     18.0        No   \n",
      "\n",
      "        Year  Month  Day  \n",
      "0       2013      7   22  \n",
      "1       2015      2   28  \n",
      "3       2014      2   19  \n",
      "4       2015     10    4  \n",
      "6       2010      9   18  \n",
      "...      ...    ...  ...  \n",
      "101816  2009      7    9  \n",
      "101817  2015      7   19  \n",
      "101818  2015      6   25  \n",
      "101820  2011      6   13  \n",
      "101821  2010      9   11  \n",
      "\n",
      "[91150 rows x 20 columns]\n"
     ]
    }
   ],
   "source": [
    "print(X)"
   ]
  },
  {
   "cell_type": "code",
   "execution_count": 31,
   "metadata": {
    "execution": {
     "iopub.execute_input": "2021-03-04T15:33:26.106424Z",
     "iopub.status.busy": "2021-03-04T15:33:26.105656Z",
     "iopub.status.idle": "2021-03-04T15:33:26.110622Z",
     "shell.execute_reply": "2021-03-04T15:33:26.110094Z"
    },
    "papermill": {
     "duration": 0.062798,
     "end_time": "2021-03-04T15:33:26.110769",
     "exception": false,
     "start_time": "2021-03-04T15:33:26.047971",
     "status": "completed"
    },
    "tags": []
   },
   "outputs": [
    {
     "name": "stdout",
     "output_type": "stream",
     "text": [
      "0         0\n",
      "1         1\n",
      "3         1\n",
      "4         0\n",
      "6         0\n",
      "         ..\n",
      "101816    0\n",
      "101817    1\n",
      "101818    0\n",
      "101820    1\n",
      "101821    0\n",
      "Name: RainTomorrow, Length: 91150, dtype: int64\n"
     ]
    }
   ],
   "source": [
    "print(y)"
   ]
  },
  {
   "cell_type": "code",
   "execution_count": 32,
   "metadata": {
    "execution": {
     "iopub.execute_input": "2021-03-04T15:33:26.301743Z",
     "iopub.status.busy": "2021-03-04T15:33:26.230833Z",
     "iopub.status.idle": "2021-03-04T15:33:26.585187Z",
     "shell.execute_reply": "2021-03-04T15:33:26.584663Z"
    },
    "papermill": {
     "duration": 0.421229,
     "end_time": "2021-03-04T15:33:26.585336",
     "exception": false,
     "start_time": "2021-03-04T15:33:26.164107",
     "status": "completed"
    },
    "tags": []
   },
   "outputs": [],
   "source": [
    "df1=np.copy(df)\n",
    "df2=np.copy(df)\n",
    "df3=np.copy(df)"
   ]
  },
  {
   "cell_type": "code",
   "execution_count": 33,
   "metadata": {
    "execution": {
     "iopub.execute_input": "2021-03-04T15:33:26.697483Z",
     "iopub.status.busy": "2021-03-04T15:33:26.696515Z",
     "iopub.status.idle": "2021-03-04T15:33:26.699187Z",
     "shell.execute_reply": "2021-03-04T15:33:26.699640Z"
    },
    "papermill": {
     "duration": 0.062064,
     "end_time": "2021-03-04T15:33:26.699813",
     "exception": false,
     "start_time": "2021-03-04T15:33:26.637749",
     "status": "completed"
    },
    "tags": []
   },
   "outputs": [],
   "source": [
    "cat = [col for col in X.columns if X[col].dtypes == 'O']\n",
    "num = [col for col in X.columns if X[col].dtypes != 'O']"
   ]
  },
  {
   "cell_type": "code",
   "execution_count": 34,
   "metadata": {
    "execution": {
     "iopub.execute_input": "2021-03-04T15:33:26.845127Z",
     "iopub.status.busy": "2021-03-04T15:33:26.844458Z",
     "iopub.status.idle": "2021-03-04T15:33:26.874700Z",
     "shell.execute_reply": "2021-03-04T15:33:26.873928Z"
    },
    "papermill": {
     "duration": 0.122198,
     "end_time": "2021-03-04T15:33:26.874864",
     "exception": false,
     "start_time": "2021-03-04T15:33:26.752666",
     "status": "completed"
    },
    "tags": []
   },
   "outputs": [],
   "source": [
    "for df1 in [X]:\n",
    "    for col in num:\n",
    "        col_median=X[col].median()\n",
    "        df1[col].fillna(col_median, inplace=True) "
   ]
  },
  {
   "cell_type": "code",
   "execution_count": 35,
   "metadata": {
    "execution": {
     "iopub.execute_input": "2021-03-04T15:33:26.991968Z",
     "iopub.status.busy": "2021-03-04T15:33:26.991325Z",
     "iopub.status.idle": "2021-03-04T15:33:27.001962Z",
     "shell.execute_reply": "2021-03-04T15:33:27.001291Z"
    },
    "papermill": {
     "duration": 0.072747,
     "end_time": "2021-03-04T15:33:27.002146",
     "exception": false,
     "start_time": "2021-03-04T15:33:26.929399",
     "status": "completed"
    },
    "tags": []
   },
   "outputs": [
    {
     "data": {
      "text/plain": [
       "MinTemp          0\n",
       "MaxTemp          0\n",
       "Rainfall         0\n",
       "Sunshine         0\n",
       "WindGustSpeed    0\n",
       "WindSpeed9am     0\n",
       "WindSpeed3pm     0\n",
       "Humidity9am      0\n",
       "Humidity3pm      0\n",
       "Pressure9am      0\n",
       "Pressure3pm      0\n",
       "Temp9am          0\n",
       "Temp3pm          0\n",
       "Year             0\n",
       "Month            0\n",
       "Day              0\n",
       "dtype: int64"
      ]
     },
     "execution_count": 35,
     "metadata": {},
     "output_type": "execute_result"
    }
   ],
   "source": [
    "X[num].isnull().sum()"
   ]
  },
  {
   "cell_type": "code",
   "execution_count": 36,
   "metadata": {
    "execution": {
     "iopub.execute_input": "2021-03-04T15:33:27.174797Z",
     "iopub.status.busy": "2021-03-04T15:33:27.150881Z",
     "iopub.status.idle": "2021-03-04T15:33:27.248644Z",
     "shell.execute_reply": "2021-03-04T15:33:27.248026Z"
    },
    "papermill": {
     "duration": 0.190601,
     "end_time": "2021-03-04T15:33:27.248799",
     "exception": false,
     "start_time": "2021-03-04T15:33:27.058198",
     "status": "completed"
    },
    "tags": []
   },
   "outputs": [],
   "source": [
    "for df2 in [X]:\n",
    "    df2['WindGustDir'].fillna(X['WindGustDir'].mode()[0], inplace=True)\n",
    "    df2['WindDir9am'].fillna(X['WindDir9am'].mode()[0], inplace=True)\n",
    "    df2['WindDir3pm'].fillna(X['WindDir3pm'].mode()[0], inplace=True)\n",
    "    df2['RainToday'].fillna(X['RainToday'].mode()[0], inplace=True)"
   ]
  },
  {
   "cell_type": "code",
   "execution_count": 37,
   "metadata": {
    "execution": {
     "iopub.execute_input": "2021-03-04T15:33:27.363277Z",
     "iopub.status.busy": "2021-03-04T15:33:27.362588Z",
     "iopub.status.idle": "2021-03-04T15:33:27.409058Z",
     "shell.execute_reply": "2021-03-04T15:33:27.409526Z"
    },
    "papermill": {
     "duration": 0.106049,
     "end_time": "2021-03-04T15:33:27.409712",
     "exception": false,
     "start_time": "2021-03-04T15:33:27.303663",
     "status": "completed"
    },
    "tags": []
   },
   "outputs": [
    {
     "data": {
      "text/plain": [
       "WindGustDir    0\n",
       "WindDir9am     0\n",
       "WindDir3pm     0\n",
       "RainToday      0\n",
       "dtype: int64"
      ]
     },
     "execution_count": 37,
     "metadata": {},
     "output_type": "execute_result"
    }
   ],
   "source": [
    "X[cat].isnull().sum()"
   ]
  },
  {
   "cell_type": "code",
   "execution_count": 38,
   "metadata": {
    "execution": {
     "iopub.execute_input": "2021-03-04T15:33:27.540531Z",
     "iopub.status.busy": "2021-03-04T15:33:27.536245Z",
     "iopub.status.idle": "2021-03-04T15:33:27.545222Z",
     "shell.execute_reply": "2021-03-04T15:33:27.544566Z"
    },
    "papermill": {
     "duration": 0.081964,
     "end_time": "2021-03-04T15:33:27.545446",
     "exception": false,
     "start_time": "2021-03-04T15:33:27.463482",
     "status": "completed"
    },
    "tags": []
   },
   "outputs": [
    {
     "name": "stdout",
     "output_type": "stream",
     "text": [
      "        MinTemp  MaxTemp  Rainfall  Sunshine WindGustDir  WindGustSpeed  \\\n",
      "0           8.7     17.2       0.0       9.9         WNW           54.0   \n",
      "1          15.4     25.7       0.0       8.6           W           67.0   \n",
      "3          19.9     26.4       0.0       8.6          SW           24.0   \n",
      "4          19.3     32.9       0.0       8.6           W           48.0   \n",
      "6          -0.3     14.2       0.0       9.7         NNW           43.0   \n",
      "...         ...      ...       ...       ...         ...            ...   \n",
      "101816      0.6     12.8       0.0       6.1         ENE           26.0   \n",
      "101817     11.6     17.0       3.0       8.6         NNW           50.0   \n",
      "101818      7.6     20.4       0.0       9.2         ENE           30.0   \n",
      "101820     10.5     14.6       4.0       8.6           S           33.0   \n",
      "101821      8.2     19.8       0.6       8.6           W           37.0   \n",
      "\n",
      "       WindDir9am WindDir3pm  WindSpeed9am  WindSpeed3pm  Humidity9am  \\\n",
      "0             WNW          W          17.0          26.0         54.0   \n",
      "1             NNE        WSW          11.0           9.0         84.0   \n",
      "3             NNE        WSW          13.0           9.0         97.0   \n",
      "4             NNW          W          19.0          22.0         46.0   \n",
      "6              NW        NNW          13.0          28.0         67.0   \n",
      "...           ...        ...           ...           ...          ...   \n",
      "101816        SSE        ESE           9.0          11.0         85.0   \n",
      "101817        NNW        NNW          15.0          13.0         88.0   \n",
      "101818         NE        WNW           9.0          17.0         64.0   \n",
      "101820        SSW        SSW          20.0          19.0         82.0   \n",
      "101821          N         SE           4.0           4.0         50.0   \n",
      "\n",
      "        Humidity3pm  Pressure9am  Pressure3pm  Temp9am  Temp3pm RainToday  \\\n",
      "0              28.0       1019.4       1016.3     12.2     16.6        No   \n",
      "1              66.0       1008.1       1005.1     18.8     24.3        No   \n",
      "3              97.0       1004.6       1002.1     22.6     22.3        No   \n",
      "4              15.0       1022.8       1020.7     22.1     32.6        No   \n",
      "6              50.0       1019.0       1015.5      9.2     13.7        No   \n",
      "...             ...          ...          ...      ...      ...       ...   \n",
      "101816         53.0       1033.1       1030.4      8.5     12.4        No   \n",
      "101817         90.0       1013.2       1008.9     14.0     15.0       Yes   \n",
      "101818         35.0       1027.7       1024.2     12.1     19.9        No   \n",
      "101820         90.0       1024.6       1021.6     12.2     13.9       Yes   \n",
      "101821         51.0       1017.9       1015.5     16.6     18.0        No   \n",
      "\n",
      "        Year  Month  Day  \n",
      "0       2013      7   22  \n",
      "1       2015      2   28  \n",
      "3       2014      2   19  \n",
      "4       2015     10    4  \n",
      "6       2010      9   18  \n",
      "...      ...    ...  ...  \n",
      "101816  2009      7    9  \n",
      "101817  2015      7   19  \n",
      "101818  2015      6   25  \n",
      "101820  2011      6   13  \n",
      "101821  2010      9   11  \n",
      "\n",
      "[91150 rows x 20 columns]\n"
     ]
    }
   ],
   "source": [
    "print(X)"
   ]
  },
  {
   "cell_type": "markdown",
   "metadata": {
    "papermill": {
     "duration": 0.055653,
     "end_time": "2021-03-04T15:33:27.655720",
     "exception": false,
     "start_time": "2021-03-04T15:33:27.600067",
     "status": "completed"
    },
    "tags": []
   },
   "source": [
    "### Working with categorical variables:"
   ]
  },
  {
   "cell_type": "code",
   "execution_count": 39,
   "metadata": {
    "execution": {
     "iopub.execute_input": "2021-03-04T15:33:27.772411Z",
     "iopub.status.busy": "2021-03-04T15:33:27.771739Z",
     "iopub.status.idle": "2021-03-04T15:33:28.218735Z",
     "shell.execute_reply": "2021-03-04T15:33:28.218057Z"
    },
    "papermill": {
     "duration": 0.507044,
     "end_time": "2021-03-04T15:33:28.218877",
     "exception": false,
     "start_time": "2021-03-04T15:33:27.711833",
     "status": "completed"
    },
    "tags": []
   },
   "outputs": [],
   "source": [
    "from sklearn.preprocessing import LabelEncoder\n",
    "X_labelencoder = LabelEncoder()\n",
    "X['WindGustDir'] = X_labelencoder.fit_transform(X['WindGustDir'])\n",
    "X['WindDir9am'] = X_labelencoder.fit_transform(X['WindDir9am'])\n",
    "X['WindDir3pm'] = X_labelencoder.fit_transform(X['WindDir3pm'])\n",
    "X['RainToday'] = X_labelencoder.fit_transform(X['RainToday'])"
   ]
  },
  {
   "cell_type": "code",
   "execution_count": 40,
   "metadata": {
    "execution": {
     "iopub.execute_input": "2021-03-04T15:33:28.351198Z",
     "iopub.status.busy": "2021-03-04T15:33:28.350202Z",
     "iopub.status.idle": "2021-03-04T15:33:28.354509Z",
     "shell.execute_reply": "2021-03-04T15:33:28.353951Z"
    },
    "papermill": {
     "duration": 0.080562,
     "end_time": "2021-03-04T15:33:28.354650",
     "exception": false,
     "start_time": "2021-03-04T15:33:28.274088",
     "status": "completed"
    },
    "tags": []
   },
   "outputs": [
    {
     "name": "stdout",
     "output_type": "stream",
     "text": [
      "        MinTemp  MaxTemp  Rainfall  Sunshine  WindGustDir  WindGustSpeed  \\\n",
      "0           8.7     17.2       0.0       9.9           14           54.0   \n",
      "1          15.4     25.7       0.0       8.6           13           67.0   \n",
      "3          19.9     26.4       0.0       8.6           12           24.0   \n",
      "4          19.3     32.9       0.0       8.6           13           48.0   \n",
      "6          -0.3     14.2       0.0       9.7            6           43.0   \n",
      "...         ...      ...       ...       ...          ...            ...   \n",
      "101816      0.6     12.8       0.0       6.1            1           26.0   \n",
      "101817     11.6     17.0       3.0       8.6            6           50.0   \n",
      "101818      7.6     20.4       0.0       9.2            1           30.0   \n",
      "101820     10.5     14.6       4.0       8.6            8           33.0   \n",
      "101821      8.2     19.8       0.6       8.6           13           37.0   \n",
      "\n",
      "        WindDir9am  WindDir3pm  WindSpeed9am  WindSpeed3pm  Humidity9am  \\\n",
      "0               14          13          17.0          26.0         54.0   \n",
      "1                5          15          11.0           9.0         84.0   \n",
      "3                5          15          13.0           9.0         97.0   \n",
      "4                6          13          19.0          22.0         46.0   \n",
      "6                7           6          13.0          28.0         67.0   \n",
      "...            ...         ...           ...           ...          ...   \n",
      "101816          10           2           9.0          11.0         85.0   \n",
      "101817           6           6          15.0          13.0         88.0   \n",
      "101818           4          14           9.0          17.0         64.0   \n",
      "101820          11          11          20.0          19.0         82.0   \n",
      "101821           3           9           4.0           4.0         50.0   \n",
      "\n",
      "        Humidity3pm  Pressure9am  Pressure3pm  Temp9am  Temp3pm  RainToday  \\\n",
      "0              28.0       1019.4       1016.3     12.2     16.6          0   \n",
      "1              66.0       1008.1       1005.1     18.8     24.3          0   \n",
      "3              97.0       1004.6       1002.1     22.6     22.3          0   \n",
      "4              15.0       1022.8       1020.7     22.1     32.6          0   \n",
      "6              50.0       1019.0       1015.5      9.2     13.7          0   \n",
      "...             ...          ...          ...      ...      ...        ...   \n",
      "101816         53.0       1033.1       1030.4      8.5     12.4          0   \n",
      "101817         90.0       1013.2       1008.9     14.0     15.0          1   \n",
      "101818         35.0       1027.7       1024.2     12.1     19.9          0   \n",
      "101820         90.0       1024.6       1021.6     12.2     13.9          1   \n",
      "101821         51.0       1017.9       1015.5     16.6     18.0          0   \n",
      "\n",
      "        Year  Month  Day  \n",
      "0       2013      7   22  \n",
      "1       2015      2   28  \n",
      "3       2014      2   19  \n",
      "4       2015     10    4  \n",
      "6       2010      9   18  \n",
      "...      ...    ...  ...  \n",
      "101816  2009      7    9  \n",
      "101817  2015      7   19  \n",
      "101818  2015      6   25  \n",
      "101820  2011      6   13  \n",
      "101821  2010      9   11  \n",
      "\n",
      "[91150 rows x 20 columns]\n"
     ]
    }
   ],
   "source": [
    "print(X)"
   ]
  },
  {
   "cell_type": "code",
   "execution_count": 41,
   "metadata": {
    "execution": {
     "iopub.execute_input": "2021-03-04T15:33:28.471482Z",
     "iopub.status.busy": "2021-03-04T15:33:28.470813Z",
     "iopub.status.idle": "2021-03-04T15:33:28.474236Z",
     "shell.execute_reply": "2021-03-04T15:33:28.473617Z"
    },
    "papermill": {
     "duration": 0.064569,
     "end_time": "2021-03-04T15:33:28.474380",
     "exception": false,
     "start_time": "2021-03-04T15:33:28.409811",
     "status": "completed"
    },
    "tags": []
   },
   "outputs": [
    {
     "name": "stdout",
     "output_type": "stream",
     "text": [
      "0         0\n",
      "1         1\n",
      "3         1\n",
      "4         0\n",
      "6         0\n",
      "         ..\n",
      "101816    0\n",
      "101817    1\n",
      "101818    0\n",
      "101820    1\n",
      "101821    0\n",
      "Name: RainTomorrow, Length: 91150, dtype: int64\n"
     ]
    }
   ],
   "source": [
    "print(y)"
   ]
  },
  {
   "cell_type": "code",
   "execution_count": 42,
   "metadata": {
    "execution": {
     "iopub.execute_input": "2021-03-04T15:33:28.590136Z",
     "iopub.status.busy": "2021-03-04T15:33:28.589478Z",
     "iopub.status.idle": "2021-03-04T15:33:28.602507Z",
     "shell.execute_reply": "2021-03-04T15:33:28.603089Z"
    },
    "papermill": {
     "duration": 0.073734,
     "end_time": "2021-03-04T15:33:28.603272",
     "exception": false,
     "start_time": "2021-03-04T15:33:28.529538",
     "status": "completed"
    },
    "tags": []
   },
   "outputs": [
    {
     "name": "stdout",
     "output_type": "stream",
     "text": [
      "[[8.700e+00 1.720e+01 0.000e+00 ... 2.013e+03 7.000e+00 2.200e+01]\n",
      " [1.540e+01 2.570e+01 0.000e+00 ... 2.015e+03 2.000e+00 2.800e+01]\n",
      " [1.990e+01 2.640e+01 0.000e+00 ... 2.014e+03 2.000e+00 1.900e+01]\n",
      " ...\n",
      " [7.600e+00 2.040e+01 0.000e+00 ... 2.015e+03 6.000e+00 2.500e+01]\n",
      " [1.050e+01 1.460e+01 4.000e+00 ... 2.011e+03 6.000e+00 1.300e+01]\n",
      " [8.200e+00 1.980e+01 6.000e-01 ... 2.010e+03 9.000e+00 1.100e+01]]\n",
      "[0 1 1 ... 0 1 0]\n"
     ]
    }
   ],
   "source": [
    "X1 = X.values\n",
    "y1 = y.values\n",
    "print(X1)\n",
    "print(y1)"
   ]
  },
  {
   "cell_type": "code",
   "execution_count": 43,
   "metadata": {
    "execution": {
     "iopub.execute_input": "2021-03-04T15:33:28.744706Z",
     "iopub.status.busy": "2021-03-04T15:33:28.743997Z",
     "iopub.status.idle": "2021-03-04T15:33:28.749827Z",
     "shell.execute_reply": "2021-03-04T15:33:28.749145Z"
    },
    "papermill": {
     "duration": 0.091361,
     "end_time": "2021-03-04T15:33:28.749979",
     "exception": false,
     "start_time": "2021-03-04T15:33:28.658618",
     "status": "completed"
    },
    "tags": []
   },
   "outputs": [
    {
     "data": {
      "text/html": [
       "<div>\n",
       "<style scoped>\n",
       "    .dataframe tbody tr th:only-of-type {\n",
       "        vertical-align: middle;\n",
       "    }\n",
       "\n",
       "    .dataframe tbody tr th {\n",
       "        vertical-align: top;\n",
       "    }\n",
       "\n",
       "    .dataframe thead th {\n",
       "        text-align: right;\n",
       "    }\n",
       "</style>\n",
       "<table border=\"1\" class=\"dataframe\">\n",
       "  <thead>\n",
       "    <tr style=\"text-align: right;\">\n",
       "      <th></th>\n",
       "      <th>Id</th>\n",
       "      <th>Date</th>\n",
       "      <th>Location</th>\n",
       "      <th>MinTemp</th>\n",
       "      <th>MaxTemp</th>\n",
       "      <th>Rainfall</th>\n",
       "      <th>Evaporation</th>\n",
       "      <th>Sunshine</th>\n",
       "      <th>WindGustDir</th>\n",
       "      <th>WindGustSpeed</th>\n",
       "      <th>...</th>\n",
       "      <th>WindSpeed3pm</th>\n",
       "      <th>Humidity9am</th>\n",
       "      <th>Humidity3pm</th>\n",
       "      <th>Pressure9am</th>\n",
       "      <th>Pressure3pm</th>\n",
       "      <th>Cloud9am</th>\n",
       "      <th>Cloud3pm</th>\n",
       "      <th>Temp9am</th>\n",
       "      <th>Temp3pm</th>\n",
       "      <th>RainToday</th>\n",
       "    </tr>\n",
       "  </thead>\n",
       "  <tbody>\n",
       "    <tr>\n",
       "      <th>0</th>\n",
       "      <td>0</td>\n",
       "      <td>2016-04-05</td>\n",
       "      <td>Sale</td>\n",
       "      <td>7.6</td>\n",
       "      <td>28.1</td>\n",
       "      <td>0.0</td>\n",
       "      <td>NaN</td>\n",
       "      <td>NaN</td>\n",
       "      <td>NaN</td>\n",
       "      <td>NaN</td>\n",
       "      <td>...</td>\n",
       "      <td>9.0</td>\n",
       "      <td>98.0</td>\n",
       "      <td>38.0</td>\n",
       "      <td>1012.8</td>\n",
       "      <td>1009.1</td>\n",
       "      <td>NaN</td>\n",
       "      <td>NaN</td>\n",
       "      <td>14.2</td>\n",
       "      <td>27.5</td>\n",
       "      <td>No</td>\n",
       "    </tr>\n",
       "    <tr>\n",
       "      <th>1</th>\n",
       "      <td>1</td>\n",
       "      <td>2015-02-10</td>\n",
       "      <td>Tuggeranong</td>\n",
       "      <td>17.0</td>\n",
       "      <td>28.9</td>\n",
       "      <td>0.0</td>\n",
       "      <td>NaN</td>\n",
       "      <td>NaN</td>\n",
       "      <td>E</td>\n",
       "      <td>33.0</td>\n",
       "      <td>...</td>\n",
       "      <td>11.0</td>\n",
       "      <td>75.0</td>\n",
       "      <td>46.0</td>\n",
       "      <td>1024.7</td>\n",
       "      <td>1020.5</td>\n",
       "      <td>NaN</td>\n",
       "      <td>NaN</td>\n",
       "      <td>18.9</td>\n",
       "      <td>27.7</td>\n",
       "      <td>No</td>\n",
       "    </tr>\n",
       "    <tr>\n",
       "      <th>2</th>\n",
       "      <td>2</td>\n",
       "      <td>2011-12-21</td>\n",
       "      <td>SydneyAirport</td>\n",
       "      <td>18.6</td>\n",
       "      <td>22.7</td>\n",
       "      <td>0.0</td>\n",
       "      <td>6.8</td>\n",
       "      <td>5.5</td>\n",
       "      <td>SSW</td>\n",
       "      <td>37.0</td>\n",
       "      <td>...</td>\n",
       "      <td>26.0</td>\n",
       "      <td>71.0</td>\n",
       "      <td>75.0</td>\n",
       "      <td>1018.6</td>\n",
       "      <td>1017.0</td>\n",
       "      <td>7.0</td>\n",
       "      <td>6.0</td>\n",
       "      <td>20.3</td>\n",
       "      <td>21.2</td>\n",
       "      <td>No</td>\n",
       "    </tr>\n",
       "  </tbody>\n",
       "</table>\n",
       "<p>3 rows × 23 columns</p>\n",
       "</div>"
      ],
      "text/plain": [
       "   Id        Date       Location  MinTemp  MaxTemp  Rainfall  Evaporation  \\\n",
       "0   0  2016-04-05           Sale      7.6     28.1       0.0          NaN   \n",
       "1   1  2015-02-10    Tuggeranong     17.0     28.9       0.0          NaN   \n",
       "2   2  2011-12-21  SydneyAirport     18.6     22.7       0.0          6.8   \n",
       "\n",
       "   Sunshine WindGustDir  WindGustSpeed  ... WindSpeed3pm Humidity9am  \\\n",
       "0       NaN         NaN            NaN  ...          9.0        98.0   \n",
       "1       NaN           E           33.0  ...         11.0        75.0   \n",
       "2       5.5         SSW           37.0  ...         26.0        71.0   \n",
       "\n",
       "   Humidity3pm  Pressure9am  Pressure3pm  Cloud9am  Cloud3pm  Temp9am  \\\n",
       "0         38.0       1012.8       1009.1       NaN       NaN     14.2   \n",
       "1         46.0       1024.7       1020.5       NaN       NaN     18.9   \n",
       "2         75.0       1018.6       1017.0       7.0       6.0     20.3   \n",
       "\n",
       "   Temp3pm  RainToday  \n",
       "0     27.5         No  \n",
       "1     27.7         No  \n",
       "2     21.2         No  \n",
       "\n",
       "[3 rows x 23 columns]"
      ]
     },
     "execution_count": 43,
     "metadata": {},
     "output_type": "execute_result"
    }
   ],
   "source": [
    "df_test.head(3)"
   ]
  },
  {
   "cell_type": "code",
   "execution_count": 44,
   "metadata": {
    "execution": {
     "iopub.execute_input": "2021-03-04T15:33:28.870221Z",
     "iopub.status.busy": "2021-03-04T15:33:28.869531Z",
     "iopub.status.idle": "2021-03-04T15:33:28.873030Z",
     "shell.execute_reply": "2021-03-04T15:33:28.873513Z"
    },
    "papermill": {
     "duration": 0.066058,
     "end_time": "2021-03-04T15:33:28.873696",
     "exception": false,
     "start_time": "2021-03-04T15:33:28.807638",
     "status": "completed"
    },
    "tags": []
   },
   "outputs": [
    {
     "name": "stdout",
     "output_type": "stream",
     "text": [
      "43638.0\n"
     ]
    }
   ],
   "source": [
    "print(np.float(len(df_test)))"
   ]
  },
  {
   "cell_type": "code",
   "execution_count": 45,
   "metadata": {
    "execution": {
     "iopub.execute_input": "2021-03-04T15:33:28.996931Z",
     "iopub.status.busy": "2021-03-04T15:33:28.996168Z",
     "iopub.status.idle": "2021-03-04T15:33:29.000235Z",
     "shell.execute_reply": "2021-03-04T15:33:29.000802Z"
    },
    "papermill": {
     "duration": 0.069257,
     "end_time": "2021-03-04T15:33:29.000996",
     "exception": false,
     "start_time": "2021-03-04T15:33:28.931739",
     "status": "completed"
    },
    "tags": []
   },
   "outputs": [
    {
     "data": {
      "text/plain": [
       "Index(['Id', 'Date', 'Location', 'MinTemp', 'MaxTemp', 'Rainfall',\n",
       "       'Evaporation', 'Sunshine', 'WindGustDir', 'WindGustSpeed', 'WindDir9am',\n",
       "       'WindDir3pm', 'WindSpeed9am', 'WindSpeed3pm', 'Humidity9am',\n",
       "       'Humidity3pm', 'Pressure9am', 'Pressure3pm', 'Cloud9am', 'Cloud3pm',\n",
       "       'Temp9am', 'Temp3pm', 'RainToday'],\n",
       "      dtype='object')"
      ]
     },
     "execution_count": 45,
     "metadata": {},
     "output_type": "execute_result"
    }
   ],
   "source": [
    "df_test.columns"
   ]
  },
  {
   "cell_type": "code",
   "execution_count": 46,
   "metadata": {
    "execution": {
     "iopub.execute_input": "2021-03-04T15:33:29.120658Z",
     "iopub.status.busy": "2021-03-04T15:33:29.119977Z",
     "iopub.status.idle": "2021-03-04T15:33:29.157575Z",
     "shell.execute_reply": "2021-03-04T15:33:29.158063Z"
    },
    "papermill": {
     "duration": 0.099205,
     "end_time": "2021-03-04T15:33:29.158256",
     "exception": false,
     "start_time": "2021-03-04T15:33:29.059051",
     "status": "completed"
    },
    "tags": []
   },
   "outputs": [
    {
     "data": {
      "text/plain": [
       "Date              0\n",
       "Location          0\n",
       "WindGustDir    3008\n",
       "WindDir9am     3175\n",
       "WindDir3pm     1242\n",
       "RainToday       961\n",
       "dtype: int64"
      ]
     },
     "execution_count": 46,
     "metadata": {},
     "output_type": "execute_result"
    }
   ],
   "source": [
    "cat_test = [var for var in df_test.columns if df_test[var].dtype=='O']\n",
    "df_test[cat_test].isnull().sum()"
   ]
  },
  {
   "cell_type": "code",
   "execution_count": 47,
   "metadata": {
    "execution": {
     "iopub.execute_input": "2021-03-04T15:33:29.279232Z",
     "iopub.status.busy": "2021-03-04T15:33:29.278574Z",
     "iopub.status.idle": "2021-03-04T15:33:29.315310Z",
     "shell.execute_reply": "2021-03-04T15:33:29.314750Z"
    },
    "papermill": {
     "duration": 0.09872,
     "end_time": "2021-03-04T15:33:29.315454",
     "exception": false,
     "start_time": "2021-03-04T15:33:29.216734",
     "status": "completed"
    },
    "tags": []
   },
   "outputs": [
    {
     "data": {
      "text/plain": [
       "Date              0\n",
       "Location          0\n",
       "WindGustDir    3008\n",
       "WindDir9am     3175\n",
       "WindDir3pm     1242\n",
       "RainToday       961\n",
       "dtype: int64"
      ]
     },
     "execution_count": 47,
     "metadata": {},
     "output_type": "execute_result"
    }
   ],
   "source": [
    "df_test[cat_test].isnull().sum()"
   ]
  },
  {
   "cell_type": "code",
   "execution_count": 48,
   "metadata": {
    "execution": {
     "iopub.execute_input": "2021-03-04T15:33:29.458659Z",
     "iopub.status.busy": "2021-03-04T15:33:29.457958Z",
     "iopub.status.idle": "2021-03-04T15:33:29.490489Z",
     "shell.execute_reply": "2021-03-04T15:33:29.489905Z"
    },
    "papermill": {
     "duration": 0.115197,
     "end_time": "2021-03-04T15:33:29.490643",
     "exception": false,
     "start_time": "2021-03-04T15:33:29.375446",
     "status": "completed"
    },
    "tags": []
   },
   "outputs": [],
   "source": [
    "df_test['Date'] = pd.to_datetime(df_test['Date']) #new format\n",
    "df_test['Year'] = df_test['Date'].dt.year\n",
    "df_test['Month'] = df_test['Date'].dt.month\n",
    "df_test['Day'] = df_test['Date'].dt.day\n",
    "df_test.drop('Date', axis=1, inplace = True)\n",
    "df_test.drop('Location', axis=1, inplace = True)"
   ]
  },
  {
   "cell_type": "code",
   "execution_count": 49,
   "metadata": {
    "execution": {
     "iopub.execute_input": "2021-03-04T15:33:29.617935Z",
     "iopub.status.busy": "2021-03-04T15:33:29.617267Z",
     "iopub.status.idle": "2021-03-04T15:33:29.626804Z",
     "shell.execute_reply": "2021-03-04T15:33:29.626161Z"
    },
    "papermill": {
     "duration": 0.077771,
     "end_time": "2021-03-04T15:33:29.626942",
     "exception": false,
     "start_time": "2021-03-04T15:33:29.549171",
     "status": "completed"
    },
    "tags": []
   },
   "outputs": [
    {
     "data": {
      "text/plain": [
       "Id                   0\n",
       "MinTemp            458\n",
       "MaxTemp            386\n",
       "Rainfall           961\n",
       "Evaporation      18901\n",
       "Sunshine         21035\n",
       "WindGustSpeed     2991\n",
       "WindSpeed9am       495\n",
       "WindSpeed3pm       903\n",
       "Humidity9am        800\n",
       "Humidity3pm       1347\n",
       "Pressure9am       4511\n",
       "Pressure3pm       4510\n",
       "Cloud9am         16899\n",
       "Cloud3pm         17938\n",
       "Temp9am            541\n",
       "Temp3pm           1091\n",
       "Year                 0\n",
       "Month                0\n",
       "Day                  0\n",
       "dtype: int64"
      ]
     },
     "execution_count": 49,
     "metadata": {},
     "output_type": "execute_result"
    }
   ],
   "source": [
    "num_test = [var for var in df_test.columns if df_test[var].dtype!='O']\n",
    "df_test[num_test].isnull().sum()"
   ]
  },
  {
   "cell_type": "code",
   "execution_count": 50,
   "metadata": {
    "execution": {
     "iopub.execute_input": "2021-03-04T15:33:29.759072Z",
     "iopub.status.busy": "2021-03-04T15:33:29.753914Z",
     "iopub.status.idle": "2021-03-04T15:33:29.786770Z",
     "shell.execute_reply": "2021-03-04T15:33:29.786260Z"
    },
    "papermill": {
     "duration": 0.100817,
     "end_time": "2021-03-04T15:33:29.786915",
     "exception": false,
     "start_time": "2021-03-04T15:33:29.686098",
     "status": "completed"
    },
    "tags": []
   },
   "outputs": [
    {
     "data": {
      "text/html": [
       "<div>\n",
       "<style scoped>\n",
       "    .dataframe tbody tr th:only-of-type {\n",
       "        vertical-align: middle;\n",
       "    }\n",
       "\n",
       "    .dataframe tbody tr th {\n",
       "        vertical-align: top;\n",
       "    }\n",
       "\n",
       "    .dataframe thead th {\n",
       "        text-align: right;\n",
       "    }\n",
       "</style>\n",
       "<table border=\"1\" class=\"dataframe\">\n",
       "  <thead>\n",
       "    <tr style=\"text-align: right;\">\n",
       "      <th></th>\n",
       "      <th>Id</th>\n",
       "      <th>MinTemp</th>\n",
       "      <th>MaxTemp</th>\n",
       "      <th>Rainfall</th>\n",
       "      <th>Sunshine</th>\n",
       "      <th>WindGustDir</th>\n",
       "      <th>WindGustSpeed</th>\n",
       "      <th>WindDir9am</th>\n",
       "      <th>WindDir3pm</th>\n",
       "      <th>WindSpeed9am</th>\n",
       "      <th>...</th>\n",
       "      <th>Humidity9am</th>\n",
       "      <th>Humidity3pm</th>\n",
       "      <th>Pressure9am</th>\n",
       "      <th>Pressure3pm</th>\n",
       "      <th>Temp9am</th>\n",
       "      <th>Temp3pm</th>\n",
       "      <th>RainToday</th>\n",
       "      <th>Year</th>\n",
       "      <th>Month</th>\n",
       "      <th>Day</th>\n",
       "    </tr>\n",
       "  </thead>\n",
       "  <tbody>\n",
       "    <tr>\n",
       "      <th>0</th>\n",
       "      <td>0</td>\n",
       "      <td>7.6</td>\n",
       "      <td>28.1</td>\n",
       "      <td>0.0</td>\n",
       "      <td>NaN</td>\n",
       "      <td>NaN</td>\n",
       "      <td>NaN</td>\n",
       "      <td>WNW</td>\n",
       "      <td>E</td>\n",
       "      <td>7.0</td>\n",
       "      <td>...</td>\n",
       "      <td>98.0</td>\n",
       "      <td>38.0</td>\n",
       "      <td>1012.8</td>\n",
       "      <td>1009.1</td>\n",
       "      <td>14.2</td>\n",
       "      <td>27.5</td>\n",
       "      <td>No</td>\n",
       "      <td>2016</td>\n",
       "      <td>4</td>\n",
       "      <td>5</td>\n",
       "    </tr>\n",
       "    <tr>\n",
       "      <th>1</th>\n",
       "      <td>1</td>\n",
       "      <td>17.0</td>\n",
       "      <td>28.9</td>\n",
       "      <td>0.0</td>\n",
       "      <td>NaN</td>\n",
       "      <td>E</td>\n",
       "      <td>33.0</td>\n",
       "      <td>NaN</td>\n",
       "      <td>NNW</td>\n",
       "      <td>0.0</td>\n",
       "      <td>...</td>\n",
       "      <td>75.0</td>\n",
       "      <td>46.0</td>\n",
       "      <td>1024.7</td>\n",
       "      <td>1020.5</td>\n",
       "      <td>18.9</td>\n",
       "      <td>27.7</td>\n",
       "      <td>No</td>\n",
       "      <td>2015</td>\n",
       "      <td>2</td>\n",
       "      <td>10</td>\n",
       "    </tr>\n",
       "    <tr>\n",
       "      <th>2</th>\n",
       "      <td>2</td>\n",
       "      <td>18.6</td>\n",
       "      <td>22.7</td>\n",
       "      <td>0.0</td>\n",
       "      <td>5.5</td>\n",
       "      <td>SSW</td>\n",
       "      <td>37.0</td>\n",
       "      <td>SW</td>\n",
       "      <td>S</td>\n",
       "      <td>9.0</td>\n",
       "      <td>...</td>\n",
       "      <td>71.0</td>\n",
       "      <td>75.0</td>\n",
       "      <td>1018.6</td>\n",
       "      <td>1017.0</td>\n",
       "      <td>20.3</td>\n",
       "      <td>21.2</td>\n",
       "      <td>No</td>\n",
       "      <td>2011</td>\n",
       "      <td>12</td>\n",
       "      <td>21</td>\n",
       "    </tr>\n",
       "    <tr>\n",
       "      <th>3</th>\n",
       "      <td>3</td>\n",
       "      <td>23.0</td>\n",
       "      <td>31.5</td>\n",
       "      <td>13.0</td>\n",
       "      <td>NaN</td>\n",
       "      <td>W</td>\n",
       "      <td>57.0</td>\n",
       "      <td>NW</td>\n",
       "      <td>WNW</td>\n",
       "      <td>24.0</td>\n",
       "      <td>...</td>\n",
       "      <td>93.0</td>\n",
       "      <td>NaN</td>\n",
       "      <td>1003.1</td>\n",
       "      <td>999.6</td>\n",
       "      <td>24.0</td>\n",
       "      <td>NaN</td>\n",
       "      <td>Yes</td>\n",
       "      <td>2016</td>\n",
       "      <td>12</td>\n",
       "      <td>31</td>\n",
       "    </tr>\n",
       "    <tr>\n",
       "      <th>4</th>\n",
       "      <td>4</td>\n",
       "      <td>18.7</td>\n",
       "      <td>26.1</td>\n",
       "      <td>0.0</td>\n",
       "      <td>NaN</td>\n",
       "      <td>E</td>\n",
       "      <td>26.0</td>\n",
       "      <td>E</td>\n",
       "      <td>E</td>\n",
       "      <td>13.0</td>\n",
       "      <td>...</td>\n",
       "      <td>73.0</td>\n",
       "      <td>69.0</td>\n",
       "      <td>1017.0</td>\n",
       "      <td>1014.0</td>\n",
       "      <td>23.4</td>\n",
       "      <td>23.5</td>\n",
       "      <td>No</td>\n",
       "      <td>2010</td>\n",
       "      <td>10</td>\n",
       "      <td>27</td>\n",
       "    </tr>\n",
       "  </tbody>\n",
       "</table>\n",
       "<p>5 rows × 21 columns</p>\n",
       "</div>"
      ],
      "text/plain": [
       "   Id  MinTemp  MaxTemp  Rainfall  Sunshine WindGustDir  WindGustSpeed  \\\n",
       "0   0      7.6     28.1       0.0       NaN         NaN            NaN   \n",
       "1   1     17.0     28.9       0.0       NaN           E           33.0   \n",
       "2   2     18.6     22.7       0.0       5.5         SSW           37.0   \n",
       "3   3     23.0     31.5      13.0       NaN           W           57.0   \n",
       "4   4     18.7     26.1       0.0       NaN           E           26.0   \n",
       "\n",
       "  WindDir9am WindDir3pm  WindSpeed9am  ...  Humidity9am  Humidity3pm  \\\n",
       "0        WNW          E           7.0  ...         98.0         38.0   \n",
       "1        NaN        NNW           0.0  ...         75.0         46.0   \n",
       "2         SW          S           9.0  ...         71.0         75.0   \n",
       "3         NW        WNW          24.0  ...         93.0          NaN   \n",
       "4          E          E          13.0  ...         73.0         69.0   \n",
       "\n",
       "   Pressure9am  Pressure3pm  Temp9am  Temp3pm  RainToday  Year  Month  Day  \n",
       "0       1012.8       1009.1     14.2     27.5         No  2016      4    5  \n",
       "1       1024.7       1020.5     18.9     27.7         No  2015      2   10  \n",
       "2       1018.6       1017.0     20.3     21.2         No  2011     12   21  \n",
       "3       1003.1        999.6     24.0      NaN        Yes  2016     12   31  \n",
       "4       1017.0       1014.0     23.4     23.5         No  2010     10   27  \n",
       "\n",
       "[5 rows x 21 columns]"
      ]
     },
     "execution_count": 50,
     "metadata": {},
     "output_type": "execute_result"
    }
   ],
   "source": [
    "df_test = df_test.drop(columns=['Evaporation', 'Cloud9am', 'Cloud3pm'], axis=1)\n",
    "df_test.head()"
   ]
  },
  {
   "cell_type": "code",
   "execution_count": 51,
   "metadata": {
    "execution": {
     "iopub.execute_input": "2021-03-04T15:33:29.939271Z",
     "iopub.status.busy": "2021-03-04T15:33:29.938605Z",
     "iopub.status.idle": "2021-03-04T15:33:29.943184Z",
     "shell.execute_reply": "2021-03-04T15:33:29.942641Z"
    },
    "papermill": {
     "duration": 0.095429,
     "end_time": "2021-03-04T15:33:29.943328",
     "exception": false,
     "start_time": "2021-03-04T15:33:29.847899",
     "status": "completed"
    },
    "tags": []
   },
   "outputs": [
    {
     "data": {
      "text/html": [
       "<div>\n",
       "<style scoped>\n",
       "    .dataframe tbody tr th:only-of-type {\n",
       "        vertical-align: middle;\n",
       "    }\n",
       "\n",
       "    .dataframe tbody tr th {\n",
       "        vertical-align: top;\n",
       "    }\n",
       "\n",
       "    .dataframe thead th {\n",
       "        text-align: right;\n",
       "    }\n",
       "</style>\n",
       "<table border=\"1\" class=\"dataframe\">\n",
       "  <thead>\n",
       "    <tr style=\"text-align: right;\">\n",
       "      <th></th>\n",
       "      <th>MinTemp</th>\n",
       "      <th>MaxTemp</th>\n",
       "      <th>Rainfall</th>\n",
       "      <th>Sunshine</th>\n",
       "      <th>WindGustDir</th>\n",
       "      <th>WindGustSpeed</th>\n",
       "      <th>WindDir9am</th>\n",
       "      <th>WindDir3pm</th>\n",
       "      <th>WindSpeed9am</th>\n",
       "      <th>WindSpeed3pm</th>\n",
       "      <th>...</th>\n",
       "      <th>Humidity3pm</th>\n",
       "      <th>Pressure9am</th>\n",
       "      <th>Pressure3pm</th>\n",
       "      <th>Temp9am</th>\n",
       "      <th>Temp3pm</th>\n",
       "      <th>RainToday</th>\n",
       "      <th>RainTomorrow</th>\n",
       "      <th>Year</th>\n",
       "      <th>Month</th>\n",
       "      <th>Day</th>\n",
       "    </tr>\n",
       "  </thead>\n",
       "  <tbody>\n",
       "    <tr>\n",
       "      <th>0</th>\n",
       "      <td>8.7</td>\n",
       "      <td>17.2</td>\n",
       "      <td>0.0</td>\n",
       "      <td>9.9</td>\n",
       "      <td>WNW</td>\n",
       "      <td>54.0</td>\n",
       "      <td>WNW</td>\n",
       "      <td>W</td>\n",
       "      <td>17.0</td>\n",
       "      <td>26.0</td>\n",
       "      <td>...</td>\n",
       "      <td>28.0</td>\n",
       "      <td>1019.4</td>\n",
       "      <td>1016.3</td>\n",
       "      <td>12.2</td>\n",
       "      <td>16.6</td>\n",
       "      <td>No</td>\n",
       "      <td>0</td>\n",
       "      <td>2013</td>\n",
       "      <td>7</td>\n",
       "      <td>22</td>\n",
       "    </tr>\n",
       "    <tr>\n",
       "      <th>1</th>\n",
       "      <td>15.4</td>\n",
       "      <td>25.7</td>\n",
       "      <td>0.0</td>\n",
       "      <td>NaN</td>\n",
       "      <td>W</td>\n",
       "      <td>67.0</td>\n",
       "      <td>NNE</td>\n",
       "      <td>WSW</td>\n",
       "      <td>11.0</td>\n",
       "      <td>9.0</td>\n",
       "      <td>...</td>\n",
       "      <td>66.0</td>\n",
       "      <td>1008.1</td>\n",
       "      <td>1005.1</td>\n",
       "      <td>18.8</td>\n",
       "      <td>24.3</td>\n",
       "      <td>No</td>\n",
       "      <td>1</td>\n",
       "      <td>2015</td>\n",
       "      <td>2</td>\n",
       "      <td>28</td>\n",
       "    </tr>\n",
       "    <tr>\n",
       "      <th>3</th>\n",
       "      <td>19.9</td>\n",
       "      <td>26.4</td>\n",
       "      <td>0.0</td>\n",
       "      <td>NaN</td>\n",
       "      <td>SW</td>\n",
       "      <td>24.0</td>\n",
       "      <td>NNE</td>\n",
       "      <td>WSW</td>\n",
       "      <td>13.0</td>\n",
       "      <td>9.0</td>\n",
       "      <td>...</td>\n",
       "      <td>97.0</td>\n",
       "      <td>1004.6</td>\n",
       "      <td>1002.1</td>\n",
       "      <td>22.6</td>\n",
       "      <td>22.3</td>\n",
       "      <td>No</td>\n",
       "      <td>1</td>\n",
       "      <td>2014</td>\n",
       "      <td>2</td>\n",
       "      <td>19</td>\n",
       "    </tr>\n",
       "    <tr>\n",
       "      <th>4</th>\n",
       "      <td>19.3</td>\n",
       "      <td>32.9</td>\n",
       "      <td>0.0</td>\n",
       "      <td>NaN</td>\n",
       "      <td>W</td>\n",
       "      <td>48.0</td>\n",
       "      <td>NNW</td>\n",
       "      <td>W</td>\n",
       "      <td>19.0</td>\n",
       "      <td>22.0</td>\n",
       "      <td>...</td>\n",
       "      <td>15.0</td>\n",
       "      <td>1022.8</td>\n",
       "      <td>1020.7</td>\n",
       "      <td>22.1</td>\n",
       "      <td>32.6</td>\n",
       "      <td>No</td>\n",
       "      <td>0</td>\n",
       "      <td>2015</td>\n",
       "      <td>10</td>\n",
       "      <td>4</td>\n",
       "    </tr>\n",
       "    <tr>\n",
       "      <th>6</th>\n",
       "      <td>-0.3</td>\n",
       "      <td>14.2</td>\n",
       "      <td>0.0</td>\n",
       "      <td>9.7</td>\n",
       "      <td>NNW</td>\n",
       "      <td>43.0</td>\n",
       "      <td>NW</td>\n",
       "      <td>NNW</td>\n",
       "      <td>13.0</td>\n",
       "      <td>28.0</td>\n",
       "      <td>...</td>\n",
       "      <td>50.0</td>\n",
       "      <td>1019.0</td>\n",
       "      <td>1015.5</td>\n",
       "      <td>9.2</td>\n",
       "      <td>13.7</td>\n",
       "      <td>No</td>\n",
       "      <td>0</td>\n",
       "      <td>2010</td>\n",
       "      <td>9</td>\n",
       "      <td>18</td>\n",
       "    </tr>\n",
       "  </tbody>\n",
       "</table>\n",
       "<p>5 rows × 21 columns</p>\n",
       "</div>"
      ],
      "text/plain": [
       "   MinTemp  MaxTemp  Rainfall  Sunshine WindGustDir  WindGustSpeed WindDir9am  \\\n",
       "0      8.7     17.2       0.0       9.9         WNW           54.0        WNW   \n",
       "1     15.4     25.7       0.0       NaN           W           67.0        NNE   \n",
       "3     19.9     26.4       0.0       NaN          SW           24.0        NNE   \n",
       "4     19.3     32.9       0.0       NaN           W           48.0        NNW   \n",
       "6     -0.3     14.2       0.0       9.7         NNW           43.0         NW   \n",
       "\n",
       "  WindDir3pm  WindSpeed9am  WindSpeed3pm  ...  Humidity3pm  Pressure9am  \\\n",
       "0          W          17.0          26.0  ...         28.0       1019.4   \n",
       "1        WSW          11.0           9.0  ...         66.0       1008.1   \n",
       "3        WSW          13.0           9.0  ...         97.0       1004.6   \n",
       "4          W          19.0          22.0  ...         15.0       1022.8   \n",
       "6        NNW          13.0          28.0  ...         50.0       1019.0   \n",
       "\n",
       "   Pressure3pm  Temp9am  Temp3pm  RainToday RainTomorrow  Year  Month  Day  \n",
       "0       1016.3     12.2     16.6         No            0  2013      7   22  \n",
       "1       1005.1     18.8     24.3         No            1  2015      2   28  \n",
       "3       1002.1     22.6     22.3         No            1  2014      2   19  \n",
       "4       1020.7     22.1     32.6         No            0  2015     10    4  \n",
       "6       1015.5      9.2     13.7         No            0  2010      9   18  \n",
       "\n",
       "[5 rows x 21 columns]"
      ]
     },
     "execution_count": 51,
     "metadata": {},
     "output_type": "execute_result"
    }
   ],
   "source": [
    "df.head()"
   ]
  },
  {
   "cell_type": "code",
   "execution_count": 52,
   "metadata": {
    "execution": {
     "iopub.execute_input": "2021-03-04T15:33:30.073992Z",
     "iopub.status.busy": "2021-03-04T15:33:30.073317Z",
     "iopub.status.idle": "2021-03-04T15:33:30.095476Z",
     "shell.execute_reply": "2021-03-04T15:33:30.095956Z"
    },
    "papermill": {
     "duration": 0.090981,
     "end_time": "2021-03-04T15:33:30.096181",
     "exception": false,
     "start_time": "2021-03-04T15:33:30.005200",
     "status": "completed"
    },
    "tags": []
   },
   "outputs": [
    {
     "name": "stdout",
     "output_type": "stream",
     "text": [
      "       MinTemp  MaxTemp  Rainfall  Sunshine WindGustDir  WindGustSpeed  \\\n",
      "0          7.6     28.1       0.0       NaN         NaN            NaN   \n",
      "1         17.0     28.9       0.0       NaN           E           33.0   \n",
      "2         18.6     22.7       0.0       5.5         SSW           37.0   \n",
      "3         23.0     31.5      13.0       NaN           W           57.0   \n",
      "4         18.7     26.1       0.0       NaN           E           26.0   \n",
      "...        ...      ...       ...       ...         ...            ...   \n",
      "43633      6.9     14.0       0.0       NaN           W           31.0   \n",
      "43634      9.8     22.6       0.2       NaN           E           31.0   \n",
      "43635     16.2     25.5       0.0       NaN          SW           33.0   \n",
      "43636      9.6     15.7       3.0       2.0           S           41.0   \n",
      "43637      9.7     18.6       0.0       0.7         ENE           37.0   \n",
      "\n",
      "      WindDir9am WindDir3pm  WindSpeed9am  WindSpeed3pm  Humidity9am  \\\n",
      "0            WNW          E           7.0           9.0         98.0   \n",
      "1            NaN        NNW           0.0          11.0         75.0   \n",
      "2             SW          S           9.0          26.0         71.0   \n",
      "3             NW        WNW          24.0          28.0         93.0   \n",
      "4              E          E          13.0          19.0         73.0   \n",
      "...          ...        ...           ...           ...          ...   \n",
      "43633        WNW         SW          13.0          17.0         95.0   \n",
      "43634        SSW          E           7.0          17.0         55.0   \n",
      "43635        NNE          E           2.0          13.0         69.0   \n",
      "43636        NaN          S           0.0          20.0         92.0   \n",
      "43637         NW         NE           9.0          24.0         64.0   \n",
      "\n",
      "       Humidity3pm  Pressure9am  Pressure3pm  Temp9am  Temp3pm RainToday  \\\n",
      "0             38.0       1012.8       1009.1     14.2     27.5        No   \n",
      "1             46.0       1024.7       1020.5     18.9     27.7        No   \n",
      "2             75.0       1018.6       1017.0     20.3     21.2        No   \n",
      "3              NaN       1003.1        999.6     24.0      NaN       Yes   \n",
      "4             69.0       1017.0       1014.0     23.4     23.5        No   \n",
      "...            ...          ...          ...      ...      ...       ...   \n",
      "43633         91.0       1027.1       1025.5     10.2     11.1        No   \n",
      "43634         51.0       1020.9       1018.8     17.9     21.1        No   \n",
      "43635         74.0       1019.6       1016.7     24.1     24.6        No   \n",
      "43636         70.0       1010.7       1008.6     10.7     14.3       Yes   \n",
      "43637         55.0       1028.5       1026.1     14.0     17.9        No   \n",
      "\n",
      "       Year  Month  Day  \n",
      "0      2016      4    5  \n",
      "1      2015      2   10  \n",
      "2      2011     12   21  \n",
      "3      2016     12   31  \n",
      "4      2010     10   27  \n",
      "...     ...    ...  ...  \n",
      "43633  2012      6    9  \n",
      "43634  2011     10   31  \n",
      "43635  2016      4   22  \n",
      "43636  2016      9   21  \n",
      "43637  2010     10    1  \n",
      "\n",
      "[43638 rows x 20 columns]\n"
     ]
    }
   ],
   "source": [
    "X_test = df_test.drop(['Id'], axis=1)\n",
    "print(X_test)"
   ]
  },
  {
   "cell_type": "code",
   "execution_count": 53,
   "metadata": {
    "execution": {
     "iopub.execute_input": "2021-03-04T15:33:30.226253Z",
     "iopub.status.busy": "2021-03-04T15:33:30.225152Z",
     "iopub.status.idle": "2021-03-04T15:33:30.386179Z",
     "shell.execute_reply": "2021-03-04T15:33:30.385474Z"
    },
    "papermill": {
     "duration": 0.228076,
     "end_time": "2021-03-04T15:33:30.386348",
     "exception": false,
     "start_time": "2021-03-04T15:33:30.158272",
     "status": "completed"
    },
    "tags": []
   },
   "outputs": [],
   "source": [
    "df_test1=np.copy(df_test)\n",
    "df_test2=np.copy(df_test)\n",
    "df_test3=np.copy(df_test)"
   ]
  },
  {
   "cell_type": "code",
   "execution_count": 54,
   "metadata": {
    "execution": {
     "iopub.execute_input": "2021-03-04T15:33:30.517602Z",
     "iopub.status.busy": "2021-03-04T15:33:30.516875Z",
     "iopub.status.idle": "2021-03-04T15:33:30.520649Z",
     "shell.execute_reply": "2021-03-04T15:33:30.519994Z"
    },
    "papermill": {
     "duration": 0.072956,
     "end_time": "2021-03-04T15:33:30.520800",
     "exception": false,
     "start_time": "2021-03-04T15:33:30.447844",
     "status": "completed"
    },
    "tags": []
   },
   "outputs": [],
   "source": [
    "cat = [col for col in X_test.columns if X_test[col].dtypes == 'O']\n",
    "num = [col for col in X_test.columns if X_test[col].dtypes != 'O']"
   ]
  },
  {
   "cell_type": "code",
   "execution_count": 55,
   "metadata": {
    "execution": {
     "iopub.execute_input": "2021-03-04T15:33:30.647861Z",
     "iopub.status.busy": "2021-03-04T15:33:30.646961Z",
     "iopub.status.idle": "2021-03-04T15:33:30.683907Z",
     "shell.execute_reply": "2021-03-04T15:33:30.684448Z"
    },
    "papermill": {
     "duration": 0.101994,
     "end_time": "2021-03-04T15:33:30.684653",
     "exception": false,
     "start_time": "2021-03-04T15:33:30.582659",
     "status": "completed"
    },
    "tags": []
   },
   "outputs": [],
   "source": [
    "for df_test1 in [X_test]:\n",
    "    for col in num:\n",
    "        col_median=X_test[col].median()\n",
    "        df_test1[col].fillna(col_median, inplace=True) "
   ]
  },
  {
   "cell_type": "code",
   "execution_count": 56,
   "metadata": {
    "execution": {
     "iopub.execute_input": "2021-03-04T15:33:30.823851Z",
     "iopub.status.busy": "2021-03-04T15:33:30.822818Z",
     "iopub.status.idle": "2021-03-04T15:33:30.832475Z",
     "shell.execute_reply": "2021-03-04T15:33:30.833238Z"
    },
    "papermill": {
     "duration": 0.086973,
     "end_time": "2021-03-04T15:33:30.833472",
     "exception": false,
     "start_time": "2021-03-04T15:33:30.746499",
     "status": "completed"
    },
    "tags": []
   },
   "outputs": [
    {
     "data": {
      "text/plain": [
       "MinTemp          0\n",
       "MaxTemp          0\n",
       "Rainfall         0\n",
       "Sunshine         0\n",
       "WindGustSpeed    0\n",
       "WindSpeed9am     0\n",
       "WindSpeed3pm     0\n",
       "Humidity9am      0\n",
       "Humidity3pm      0\n",
       "Pressure9am      0\n",
       "Pressure3pm      0\n",
       "Temp9am          0\n",
       "Temp3pm          0\n",
       "Year             0\n",
       "Month            0\n",
       "Day              0\n",
       "dtype: int64"
      ]
     },
     "execution_count": 56,
     "metadata": {},
     "output_type": "execute_result"
    }
   ],
   "source": [
    "X_test[num].isnull().sum()"
   ]
  },
  {
   "cell_type": "code",
   "execution_count": 57,
   "metadata": {
    "execution": {
     "iopub.execute_input": "2021-03-04T15:33:30.983638Z",
     "iopub.status.busy": "2021-03-04T15:33:30.982656Z",
     "iopub.status.idle": "2021-03-04T15:33:31.048323Z",
     "shell.execute_reply": "2021-03-04T15:33:31.048847Z"
    },
    "papermill": {
     "duration": 0.138129,
     "end_time": "2021-03-04T15:33:31.049051",
     "exception": false,
     "start_time": "2021-03-04T15:33:30.910922",
     "status": "completed"
    },
    "tags": []
   },
   "outputs": [],
   "source": [
    "for df_test2 in [X_test]:\n",
    "    df_test2['WindGustDir'].fillna(X_test['WindGustDir'].mode()[0], inplace=True)\n",
    "    df_test2['WindDir9am'].fillna(X_test['WindDir9am'].mode()[0], inplace=True)\n",
    "    df_test2['WindDir3pm'].fillna(X_test['WindDir3pm'].mode()[0], inplace=True)\n",
    "    df_test2['RainToday'].fillna(X_test['RainToday'].mode()[0], inplace=True)"
   ]
  },
  {
   "cell_type": "code",
   "execution_count": 58,
   "metadata": {
    "execution": {
     "iopub.execute_input": "2021-03-04T15:33:31.179855Z",
     "iopub.status.busy": "2021-03-04T15:33:31.178783Z",
     "iopub.status.idle": "2021-03-04T15:33:31.208171Z",
     "shell.execute_reply": "2021-03-04T15:33:31.207510Z"
    },
    "papermill": {
     "duration": 0.09607,
     "end_time": "2021-03-04T15:33:31.208318",
     "exception": false,
     "start_time": "2021-03-04T15:33:31.112248",
     "status": "completed"
    },
    "tags": []
   },
   "outputs": [
    {
     "data": {
      "text/plain": [
       "WindGustDir    0\n",
       "WindDir9am     0\n",
       "WindDir3pm     0\n",
       "RainToday      0\n",
       "dtype: int64"
      ]
     },
     "execution_count": 58,
     "metadata": {},
     "output_type": "execute_result"
    }
   ],
   "source": [
    "X_test[cat].isnull().sum()"
   ]
  },
  {
   "cell_type": "code",
   "execution_count": 59,
   "metadata": {
    "execution": {
     "iopub.execute_input": "2021-03-04T15:33:31.357983Z",
     "iopub.status.busy": "2021-03-04T15:33:31.356990Z",
     "iopub.status.idle": "2021-03-04T15:33:31.361857Z",
     "shell.execute_reply": "2021-03-04T15:33:31.361360Z"
    },
    "papermill": {
     "duration": 0.090494,
     "end_time": "2021-03-04T15:33:31.362030",
     "exception": false,
     "start_time": "2021-03-04T15:33:31.271536",
     "status": "completed"
    },
    "tags": []
   },
   "outputs": [
    {
     "name": "stdout",
     "output_type": "stream",
     "text": [
      "       MinTemp  MaxTemp  Rainfall  Sunshine WindGustDir  WindGustSpeed  \\\n",
      "0          7.6     28.1       0.0       8.5           W           39.0   \n",
      "1         17.0     28.9       0.0       8.5           E           33.0   \n",
      "2         18.6     22.7       0.0       5.5         SSW           37.0   \n",
      "3         23.0     31.5      13.0       8.5           W           57.0   \n",
      "4         18.7     26.1       0.0       8.5           E           26.0   \n",
      "...        ...      ...       ...       ...         ...            ...   \n",
      "43633      6.9     14.0       0.0       8.5           W           31.0   \n",
      "43634      9.8     22.6       0.2       8.5           E           31.0   \n",
      "43635     16.2     25.5       0.0       8.5          SW           33.0   \n",
      "43636      9.6     15.7       3.0       2.0           S           41.0   \n",
      "43637      9.7     18.6       0.0       0.7         ENE           37.0   \n",
      "\n",
      "      WindDir9am WindDir3pm  WindSpeed9am  WindSpeed3pm  Humidity9am  \\\n",
      "0            WNW          E           7.0           9.0         98.0   \n",
      "1              N        NNW           0.0          11.0         75.0   \n",
      "2             SW          S           9.0          26.0         71.0   \n",
      "3             NW        WNW          24.0          28.0         93.0   \n",
      "4              E          E          13.0          19.0         73.0   \n",
      "...          ...        ...           ...           ...          ...   \n",
      "43633        WNW         SW          13.0          17.0         95.0   \n",
      "43634        SSW          E           7.0          17.0         55.0   \n",
      "43635        NNE          E           2.0          13.0         69.0   \n",
      "43636          N          S           0.0          20.0         92.0   \n",
      "43637         NW         NE           9.0          24.0         64.0   \n",
      "\n",
      "       Humidity3pm  Pressure9am  Pressure3pm  Temp9am  Temp3pm RainToday  \\\n",
      "0             38.0       1012.8       1009.1     14.2     27.5        No   \n",
      "1             46.0       1024.7       1020.5     18.9     27.7        No   \n",
      "2             75.0       1018.6       1017.0     20.3     21.2        No   \n",
      "3             52.0       1003.1        999.6     24.0     21.1       Yes   \n",
      "4             69.0       1017.0       1014.0     23.4     23.5        No   \n",
      "...            ...          ...          ...      ...      ...       ...   \n",
      "43633         91.0       1027.1       1025.5     10.2     11.1        No   \n",
      "43634         51.0       1020.9       1018.8     17.9     21.1        No   \n",
      "43635         74.0       1019.6       1016.7     24.1     24.6        No   \n",
      "43636         70.0       1010.7       1008.6     10.7     14.3       Yes   \n",
      "43637         55.0       1028.5       1026.1     14.0     17.9        No   \n",
      "\n",
      "       Year  Month  Day  \n",
      "0      2016      4    5  \n",
      "1      2015      2   10  \n",
      "2      2011     12   21  \n",
      "3      2016     12   31  \n",
      "4      2010     10   27  \n",
      "...     ...    ...  ...  \n",
      "43633  2012      6    9  \n",
      "43634  2011     10   31  \n",
      "43635  2016      4   22  \n",
      "43636  2016      9   21  \n",
      "43637  2010     10    1  \n",
      "\n",
      "[43638 rows x 20 columns]\n"
     ]
    }
   ],
   "source": [
    "print(X_test)"
   ]
  },
  {
   "cell_type": "code",
   "execution_count": 60,
   "metadata": {
    "execution": {
     "iopub.execute_input": "2021-03-04T15:33:31.511977Z",
     "iopub.status.busy": "2021-03-04T15:33:31.511308Z",
     "iopub.status.idle": "2021-03-04T15:33:31.567486Z",
     "shell.execute_reply": "2021-03-04T15:33:31.566814Z"
    },
    "papermill": {
     "duration": 0.142173,
     "end_time": "2021-03-04T15:33:31.567640",
     "exception": false,
     "start_time": "2021-03-04T15:33:31.425467",
     "status": "completed"
    },
    "tags": []
   },
   "outputs": [],
   "source": [
    "from sklearn.preprocessing import LabelEncoder\n",
    "X_labelencoder = LabelEncoder()\n",
    "X_test['WindGustDir'] = X_labelencoder.fit_transform(X_test['WindGustDir'])\n",
    "X_test['WindDir9am'] = X_labelencoder.fit_transform(X_test['WindDir9am'])\n",
    "X_test['WindDir3pm'] = X_labelencoder.fit_transform(X_test['WindDir3pm'])\n",
    "X_test['RainToday'] = X_labelencoder.fit_transform(X_test['RainToday'])"
   ]
  },
  {
   "cell_type": "code",
   "execution_count": 61,
   "metadata": {
    "execution": {
     "iopub.execute_input": "2021-03-04T15:33:31.700712Z",
     "iopub.status.busy": "2021-03-04T15:33:31.699709Z",
     "iopub.status.idle": "2021-03-04T15:33:31.721653Z",
     "shell.execute_reply": "2021-03-04T15:33:31.720446Z"
    },
    "papermill": {
     "duration": 0.090412,
     "end_time": "2021-03-04T15:33:31.721867",
     "exception": false,
     "start_time": "2021-03-04T15:33:31.631455",
     "status": "completed"
    },
    "tags": []
   },
   "outputs": [
    {
     "name": "stdout",
     "output_type": "stream",
     "text": [
      "       MinTemp  MaxTemp  Rainfall  Sunshine  WindGustDir  WindGustSpeed  \\\n",
      "0          7.6     28.1       0.0       8.5           13           39.0   \n",
      "1         17.0     28.9       0.0       8.5            0           33.0   \n",
      "2         18.6     22.7       0.0       5.5           11           37.0   \n",
      "3         23.0     31.5      13.0       8.5           13           57.0   \n",
      "4         18.7     26.1       0.0       8.5            0           26.0   \n",
      "...        ...      ...       ...       ...          ...            ...   \n",
      "43633      6.9     14.0       0.0       8.5           13           31.0   \n",
      "43634      9.8     22.6       0.2       8.5            0           31.0   \n",
      "43635     16.2     25.5       0.0       8.5           12           33.0   \n",
      "43636      9.6     15.7       3.0       2.0            8           41.0   \n",
      "43637      9.7     18.6       0.0       0.7            1           37.0   \n",
      "\n",
      "       WindDir9am  WindDir3pm  WindSpeed9am  WindSpeed3pm  Humidity9am  \\\n",
      "0              14           0           7.0           9.0         98.0   \n",
      "1               3           6           0.0          11.0         75.0   \n",
      "2              12           8           9.0          26.0         71.0   \n",
      "3               7          14          24.0          28.0         93.0   \n",
      "4               0           0          13.0          19.0         73.0   \n",
      "...           ...         ...           ...           ...          ...   \n",
      "43633          14          12          13.0          17.0         95.0   \n",
      "43634          11           0           7.0          17.0         55.0   \n",
      "43635           5           0           2.0          13.0         69.0   \n",
      "43636           3           8           0.0          20.0         92.0   \n",
      "43637           7           4           9.0          24.0         64.0   \n",
      "\n",
      "       Humidity3pm  Pressure9am  Pressure3pm  Temp9am  Temp3pm  RainToday  \\\n",
      "0             38.0       1012.8       1009.1     14.2     27.5          0   \n",
      "1             46.0       1024.7       1020.5     18.9     27.7          0   \n",
      "2             75.0       1018.6       1017.0     20.3     21.2          0   \n",
      "3             52.0       1003.1        999.6     24.0     21.1          1   \n",
      "4             69.0       1017.0       1014.0     23.4     23.5          0   \n",
      "...            ...          ...          ...      ...      ...        ...   \n",
      "43633         91.0       1027.1       1025.5     10.2     11.1          0   \n",
      "43634         51.0       1020.9       1018.8     17.9     21.1          0   \n",
      "43635         74.0       1019.6       1016.7     24.1     24.6          0   \n",
      "43636         70.0       1010.7       1008.6     10.7     14.3          1   \n",
      "43637         55.0       1028.5       1026.1     14.0     17.9          0   \n",
      "\n",
      "       Year  Month  Day  \n",
      "0      2016      4    5  \n",
      "1      2015      2   10  \n",
      "2      2011     12   21  \n",
      "3      2016     12   31  \n",
      "4      2010     10   27  \n",
      "...     ...    ...  ...  \n",
      "43633  2012      6    9  \n",
      "43634  2011     10   31  \n",
      "43635  2016      4   22  \n",
      "43636  2016      9   21  \n",
      "43637  2010     10    1  \n",
      "\n",
      "[43638 rows x 20 columns]\n"
     ]
    }
   ],
   "source": [
    "print(X_test)"
   ]
  },
  {
   "cell_type": "code",
   "execution_count": 62,
   "metadata": {
    "execution": {
     "iopub.execute_input": "2021-03-04T15:33:31.857686Z",
     "iopub.status.busy": "2021-03-04T15:33:31.856957Z",
     "iopub.status.idle": "2021-03-04T15:33:31.865056Z",
     "shell.execute_reply": "2021-03-04T15:33:31.864445Z"
    },
    "papermill": {
     "duration": 0.07726,
     "end_time": "2021-03-04T15:33:31.865204",
     "exception": false,
     "start_time": "2021-03-04T15:33:31.787944",
     "status": "completed"
    },
    "tags": []
   },
   "outputs": [
    {
     "name": "stdout",
     "output_type": "stream",
     "text": [
      "[[7.600e+00 2.810e+01 0.000e+00 ... 2.016e+03 4.000e+00 5.000e+00]\n",
      " [1.700e+01 2.890e+01 0.000e+00 ... 2.015e+03 2.000e+00 1.000e+01]\n",
      " [1.860e+01 2.270e+01 0.000e+00 ... 2.011e+03 1.200e+01 2.100e+01]\n",
      " ...\n",
      " [1.620e+01 2.550e+01 0.000e+00 ... 2.016e+03 4.000e+00 2.200e+01]\n",
      " [9.600e+00 1.570e+01 3.000e+00 ... 2.016e+03 9.000e+00 2.100e+01]\n",
      " [9.700e+00 1.860e+01 0.000e+00 ... 2.010e+03 1.000e+01 1.000e+00]]\n"
     ]
    }
   ],
   "source": [
    "X_test1 = X_test.values\n",
    "print(X_test1)"
   ]
  },
  {
   "cell_type": "markdown",
   "metadata": {
    "papermill": {
     "duration": 0.064278,
     "end_time": "2021-03-04T15:33:31.994454",
     "exception": false,
     "start_time": "2021-03-04T15:33:31.930176",
     "status": "completed"
    },
    "tags": []
   },
   "source": [
    "### Logistic Regression:"
   ]
  },
  {
   "cell_type": "code",
   "execution_count": 63,
   "metadata": {
    "execution": {
     "iopub.execute_input": "2021-03-04T15:33:32.133340Z",
     "iopub.status.busy": "2021-03-04T15:33:32.132644Z",
     "iopub.status.idle": "2021-03-04T15:33:33.370162Z",
     "shell.execute_reply": "2021-03-04T15:33:33.369492Z"
    },
    "papermill": {
     "duration": 1.311104,
     "end_time": "2021-03-04T15:33:33.370320",
     "exception": false,
     "start_time": "2021-03-04T15:33:32.059216",
     "status": "completed"
    },
    "tags": []
   },
   "outputs": [
    {
     "name": "stdout",
     "output_type": "stream",
     "text": [
      "accuracy of each fold - [0.8497641250685682, 0.8527482172243555]\n",
      "Avg accuracy : 0.8512561711464619\n",
      "[0 0 0 ... 0 1 0]\n"
     ]
    }
   ],
   "source": [
    "#Importing required libraries\n",
    "from sklearn.datasets import load_breast_cancer\n",
    "import pandas as pd\n",
    "from sklearn.model_selection import KFold \n",
    "from sklearn.linear_model import LogisticRegression\n",
    "from sklearn.metrics import accuracy_score\n",
    " \n",
    "#Loading the dataset\n",
    "#data = load_breast_cancer(as_frame = True)\n",
    "#df = data.frame\n",
    "#X = df.iloc[:,:-1]\n",
    "#y = df.iloc[:,-1]\n",
    " \n",
    "#Implementing cross validation\n",
    "k = 2\n",
    "kf = KFold(n_splits=k, random_state=None)\n",
    "model = LogisticRegression(solver= 'liblinear')\n",
    " \n",
    "acc_score = []\n",
    " \n",
    "for train_index , test_index in kf.split(X1):\n",
    "    X_train , X_t = X1[train_index,:],X1[test_index,:]\n",
    "    y_train , y_t = y1[train_index] , y1[test_index]\n",
    "     \n",
    "    model.fit(X_train,y_train)\n",
    "    pred_values = model.predict(X_t)\n",
    "     \n",
    "    acc = accuracy_score(pred_values , y_t)\n",
    "    acc_score.append(acc)\n",
    "     \n",
    "avg_acc_score = sum(acc_score)/k\n",
    " \n",
    "print('accuracy of each fold - {}'.format(acc_score))\n",
    "print('Avg accuracy : {}'.format(avg_acc_score))\n",
    "\n",
    "pred_values = model.predict(X_test)\n",
    "\n",
    "print(pred_values)"
   ]
  },
  {
   "cell_type": "code",
   "execution_count": 64,
   "metadata": {
    "execution": {
     "iopub.execute_input": "2021-03-04T15:33:33.509651Z",
     "iopub.status.busy": "2021-03-04T15:33:33.508893Z",
     "iopub.status.idle": "2021-03-04T15:33:33.511950Z",
     "shell.execute_reply": "2021-03-04T15:33:33.512455Z"
    },
    "papermill": {
     "duration": 0.076007,
     "end_time": "2021-03-04T15:33:33.512621",
     "exception": false,
     "start_time": "2021-03-04T15:33:33.436614",
     "status": "completed"
    },
    "tags": []
   },
   "outputs": [
    {
     "name": "stdout",
     "output_type": "stream",
     "text": [
      "[0 0 0 ... 0 1 0]\n"
     ]
    }
   ],
   "source": [
    "pred_frame = pd.DataFrame(pred_values)\n",
    "print(pred_values)"
   ]
  },
  {
   "cell_type": "code",
   "execution_count": 65,
   "metadata": {
    "execution": {
     "iopub.execute_input": "2021-03-04T15:33:33.649474Z",
     "iopub.status.busy": "2021-03-04T15:33:33.648774Z",
     "iopub.status.idle": "2021-03-04T15:33:33.752531Z",
     "shell.execute_reply": "2021-03-04T15:33:33.751928Z"
    },
    "papermill": {
     "duration": 0.174377,
     "end_time": "2021-03-04T15:33:33.752674",
     "exception": false,
     "start_time": "2021-03-04T15:33:33.578297",
     "status": "completed"
    },
    "tags": []
   },
   "outputs": [],
   "source": [
    "np.savetxt(\"turn2.csv\", pred_values, delimiter=\",\",fmt=\"%d\")"
   ]
  },
  {
   "cell_type": "code",
   "execution_count": null,
   "metadata": {
    "papermill": {
     "duration": 0.0656,
     "end_time": "2021-03-04T15:33:33.883860",
     "exception": false,
     "start_time": "2021-03-04T15:33:33.818260",
     "status": "completed"
    },
    "tags": []
   },
   "outputs": [],
   "source": []
  }
 ],
 "metadata": {
  "kernelspec": {
   "display_name": "Python 3",
   "language": "python",
   "name": "python3"
  },
  "language_info": {
   "codemirror_mode": {
    "name": "ipython",
    "version": 3
   },
   "file_extension": ".py",
   "mimetype": "text/x-python",
   "name": "python",
   "nbconvert_exporter": "python",
   "pygments_lexer": "ipython3",
   "version": "3.7.9"
  },
  "papermill": {
   "default_parameters": {},
   "duration": 23.530446,
   "end_time": "2021-03-04T15:33:34.862591",
   "environment_variables": {},
   "exception": null,
   "input_path": "__notebook__.ipynb",
   "output_path": "__notebook__.ipynb",
   "parameters": {},
   "start_time": "2021-03-04T15:33:11.332145",
   "version": "2.2.2"
  }
 },
 "nbformat": 4,
 "nbformat_minor": 4
}
